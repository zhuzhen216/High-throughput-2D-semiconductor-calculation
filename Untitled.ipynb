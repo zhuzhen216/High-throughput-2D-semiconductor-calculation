{
 "cells": [
  {
   "cell_type": "code",
   "execution_count": 6,
   "metadata": {
    "collapsed": true
   },
   "outputs": [],
   "source": [
    "import numpy\n",
    "import pandas\n",
    "import matplotlib\n",
    "import atomic_info\n",
    "%matplotlib inline"
   ]
  },
  {
   "cell_type": "code",
   "execution_count": 7,
   "metadata": {
    "collapsed": false
   },
   "outputs": [],
   "source": [
    "#atomic_info.element.atomic_mass['Ge']"
   ]
  },
  {
   "cell_type": "code",
   "execution_count": 10,
   "metadata": {
    "collapsed": true
   },
   "outputs": [],
   "source": [
    "band_gap = open('band_gap.dat','r')\n",
    "BandGap_cont = band_gap.readlines()"
   ]
  },
  {
   "cell_type": "code",
   "execution_count": 11,
   "metadata": {
    "collapsed": false
   },
   "outputs": [
    {
     "data": {
      "text/plain": [
       "{'AlBr_0': 1.82909333333,\n",
       " 'AlBr_1': 1.54490322581,\n",
       " 'AlBr_2': 1.88903846154,\n",
       " 'AlCl_0': 1.40154601227,\n",
       " 'AlCl_1': 0.658451612903,\n",
       " 'AlCl_2': 2.34930141844,\n",
       " 'AlF_0': 0.800123076923,\n",
       " 'AlF_1': 0.0,\n",
       " 'AlF_2': 0.0,\n",
       " 'AlI_0': 1.50918660287,\n",
       " 'AlI_1': 2.27575289575,\n",
       " 'AlI_2': 1.52318483412,\n",
       " 'As_0': 0.806833333333,\n",
       " 'As_1': 1.60337647059,\n",
       " 'As_2': 0.0,\n",
       " 'BBr_0': 1.49564534884,\n",
       " 'BBr_1': 2.30155760369,\n",
       " 'BBr_2': 0.0,\n",
       " 'BCl_0': 0.0,\n",
       " 'BCl_1': 0.456,\n",
       " 'BCl_2': 0.0,\n",
       " 'BF_0': 3.13638709677,\n",
       " 'BF_1': 0.184363636364,\n",
       " 'BF_2': 0.0,\n",
       " 'BI_0': 0.442767857143,\n",
       " 'BI_1': 1.77639893617,\n",
       " 'BI_2': 0.280583333333,\n",
       " 'Bis_0': 0.0,\n",
       " 'Bis_1': 0.0,\n",
       " 'CO_0': 1.29044210526,\n",
       " 'CO_1': 0.578666666667,\n",
       " 'CO_2': 1.01282051282,\n",
       " 'CS_0': 1.1334953271,\n",
       " 'CS_1': 1.38155963303,\n",
       " 'CS_2': 0.0,\n",
       " 'CSe_0': 0.873707865169,\n",
       " 'CSe_1': 1.53848120301,\n",
       " 'CSe_2': 0.0,\n",
       " 'CTe_0': 0.5565625,\n",
       " 'CTe_1': 1.28629032258,\n",
       " 'CTe_2': 0.110923076923,\n",
       " 'GaBr_0': 2.52594321767,\n",
       " 'GaBr_2': 2.53394339623,\n",
       " 'GaCl_0': 2.96008767123,\n",
       " 'GaCl_1': 3.01990131579,\n",
       " 'GaCl_2': 2.98716164384,\n",
       " 'GaF_0': 2.72469396552,\n",
       " 'GaF_1': 1.86697247706,\n",
       " 'GaF_2': 1.7139020979,\n",
       " 'GaI_0': 2.19211726384,\n",
       " 'GaI_1': 2.73847826087,\n",
       " 'GaI_2': 2.24412420382,\n",
       " 'GeO_0': 2.74427819549,\n",
       " 'GeO_1': 2.22817582418,\n",
       " 'GeO_2': 0.253125,\n",
       " 'GeS_0': 1.70199056604,\n",
       " 'GeS_1': 2.48470588235,\n",
       " 'GeS_2': 1.32186826347,\n",
       " 'GeSe_0': 1.16174496644,\n",
       " 'GeSe_1': 2.27540248963,\n",
       " 'GeSe_2': 0.940840336134,\n",
       " 'GeTe_0': 0.865210084034,\n",
       " 'GeTe_1': 1.77758737864,\n",
       " 'GeTe_2': 0.767238095238,\n",
       " 'InBr_0': 2.37378289474,\n",
       " 'InBr_1': 2.76524832215,\n",
       " 'InBr_2': 2.40383006536,\n",
       " 'InCl_0': 2.74497959184,\n",
       " 'InCl_1': 2.65250719424,\n",
       " 'InCl_2': 2.77900867052,\n",
       " 'InF_0': 2.20022346369,\n",
       " 'InF_1': 0.947796610169,\n",
       " 'InF_2': 1.477453125,\n",
       " 'InI_0': 2.13299342105,\n",
       " 'InI_1': 2.31652117264,\n",
       " 'InI_2': 2.14601311475,\n",
       " 'N_1': 3.88086486486,\n",
       " 'N_2': 0.0,\n",
       " 'P_0': 0.902201834862,\n",
       " 'P_1': 1.93317460317,\n",
       " 'PbO_0': 2.3465,\n",
       " 'PbO_1': 1.71013333333,\n",
       " 'PbO_2': 2.21375221239,\n",
       " 'PbS_0': 1.64146118721,\n",
       " 'PbS_1': 2.06177350427,\n",
       " 'PbS_2': 1.68947555556,\n",
       " 'PbSe_0': 1.2803583815,\n",
       " 'PbSe_1': 1.89268202765,\n",
       " 'PbSe_2': 1.34535164835,\n",
       " 'PbTe_0': 1.26796685083,\n",
       " 'PbTe_1': 1.62102487562,\n",
       " 'PbTe_2': 1.32296296296,\n",
       " 'Sb_0': 0.1625,\n",
       " 'Sb_1': 1.25917647059,\n",
       " 'SiO_0': 1.39525203252,\n",
       " 'SiO_1': 0.538382352941,\n",
       " 'SiO_2': 1.05522580645,\n",
       " 'SiS_0': 1.43026744186,\n",
       " 'SiS_1': 2.2112372093,\n",
       " 'SiS_2': 0.856153846154,\n",
       " 'SiSe_0': 1.184,\n",
       " 'SiSe_1': 2.13177880184,\n",
       " 'SiSe_2': 0.514031746032,\n",
       " 'SiTe_0': 0.378274509804,\n",
       " 'SiTe_1': 1.83477884615,\n",
       " 'SiTe_2': 0.245212121212,\n",
       " 'SnO_0': 2.69476363636,\n",
       " 'SnO_1': 1.00398484848,\n",
       " 'SnO_2': 1.12305882353,\n",
       " 'SnS_0': 1.46744897959,\n",
       " 'SnS_1': 2.31411067194,\n",
       " 'SnS_2': 1.36646703297,\n",
       " 'SnSe_0': 0.927419354839,\n",
       " 'SnSe_1': 2.20994715447,\n",
       " 'SnSe_2': 0.892375,\n",
       " 'SnTe_0': 0.684918367347,\n",
       " 'SnTe_1': 1.90420779221,\n",
       " 'SnTe_2': 0.796929824561}"
      ]
     },
     "execution_count": 11,
     "metadata": {},
     "output_type": "execute_result"
    }
   ],
   "source": [
    "BandGap_dic = {}\n",
    "for line in BandGap_cont:\n",
    "    BandGap_dic[line.split()[1]]=float(line.split()[2])\n",
    "BandGap_dic"
   ]
  },
  {
   "cell_type": "code",
   "execution_count": null,
   "metadata": {
    "collapsed": true
   },
   "outputs": [],
   "source": []
  }
 ],
 "metadata": {
  "kernelspec": {
   "display_name": "Python [conda root]",
   "language": "python",
   "name": "conda-root-py"
  },
  "language_info": {
   "codemirror_mode": {
    "name": "ipython",
    "version": 3
   },
   "file_extension": ".py",
   "mimetype": "text/x-python",
   "name": "python",
   "nbconvert_exporter": "python",
   "pygments_lexer": "ipython3",
   "version": "3.5.2"
  }
 },
 "nbformat": 4,
 "nbformat_minor": 2
}
