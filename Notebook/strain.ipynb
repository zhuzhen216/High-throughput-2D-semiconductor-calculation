{
 "cells": [
  {
   "cell_type": "code",
   "execution_count": 29,
   "metadata": {
    "collapsed": false
   },
   "outputs": [],
   "source": [
    "import atomic_info\n",
    "import vasp_manager\n",
    "import os\n",
    "import shutil"
   ]
  },
  {
   "cell_type": "code",
   "execution_count": 24,
   "metadata": {
    "collapsed": false
   },
   "outputs": [],
   "source": [
    "def apply_strain(poscar_file,direction=1,strain=0):\n",
    "    \"\"\"\n",
    "    poscar: file path\n",
    "    direction: 1 (a1), 2(a2), 3(a3), 12(a1+a2), 13(a1+a3), 23(a2+a3), 123(a1+a2+a3)\n",
    "    strain: can be positive (stretching) or negative (compressing)\n",
    "    apply_strain modifies poscar_file in place\n",
    "    \"\"\"\n",
    "    poscar = open(poscar_file,'r+')\n",
    "    poscar_cont = poscar.readlines()\n",
    "    scale_a1 = 1.0\n",
    "    scale_a2 = 1.0\n",
    "    scale_a3 = 1.0\n",
    "    if direction == 1:\n",
    "        scale_a1 = 1 + strain\n",
    "    elif direction == 2:\n",
    "        scale_a2 = 1 + strain\n",
    "    elif direction == 3:\n",
    "        scale_a3 = 1 + strain\n",
    "    elif direction == 12:\n",
    "        scale_a1 = 1 + strain\n",
    "        scale_a2 = 1 + strain\n",
    "    elif direction == 13:\n",
    "        scale_a1 = 1 + strain\n",
    "        scale_a3 = 1 + strain\n",
    "    elif direction == 23:\n",
    "        scale_a2 = 1 + strain\n",
    "        scale_a3 = 1 + strain\n",
    "    elif direction == 123:\n",
    "        scale_a1 = 1 + strain\n",
    "        scale_a2 = 1 + strain\n",
    "        scale_a3 = 1 + strain\n",
    "    a1 = [float(poscar_cont[2].split()[i])*scale_a1 for i in range(3)]\n",
    "    a2 = [float(poscar_cont[3].split()[i])*scale_a2 for i in range(3)]\n",
    "    a3 = [float(poscar_cont[4].split()[i])*scale_a3 for i in range(3)]\n",
    "    poscar_cont[0]=str(direction)+' '+str(strain) + ' '+poscar_cont[0]\n",
    "    poscar_cont[2]= ' '.join(map(str,a1)) + '\\n'\n",
    "    poscar_cont[3]= ' '.join(map(str,a2)) + '\\n'\n",
    "    poscar_cont[4]= ' '.join(map(str,a3)) + '\\n'\n",
    "    poscar.seek(0)\n",
    "    poscar.truncate()\n",
    "    poscar.write(''.join(poscar_cont))\n",
    "    poscar.close()"
   ]
  },
  {
   "cell_type": "code",
   "execution_count": 33,
   "metadata": {
    "collapsed": false
   },
   "outputs": [],
   "source": [
    "def strain_calc_setup(static_path,strain,direction):\n",
    "    \"\"\"\n",
    "    1. begin with the results of static calculation;\n",
    "    2. create folders for strain calculation using static calculation as parent folder\n",
    "    3. vasp_manager.create_folder is called.\n",
    "    4. return type: a. if error is raised, 'Error' is returned; \n",
    "                    b. submit_path is returned\n",
    "                    Note: this is for user to submit the job easily\n",
    "    \"\"\"\n",
    "    file2copy = {'CONTCAR':'POSCAR','INCAR':'INCAR','KPOINTS':'KPOINTS','POTCAR':'POTCAR'}\n",
    "    strain_folder=vasp_manager.create_folder(static_path,'_'.join([str(strain),str(direction)]))\n",
    "    for file in file2copy:\n",
    "        if file in os.listdir(static_path):\n",
    "            shutil.copy2(static_path+'/'+file2copy[file],strain_folder+'/'+file2copy[file])\n",
    "        else:\n",
    "            print('Static calculation is not finished;'+file+' does not exist.')\n",
    "            return 'Error'\n",
    "    submit_path = vasp_manager.set_submit_guild(strain_folder)\n",
    "    apply_strain(strain_folder,strain,direction)\n",
    "    return submit_path"
   ]
  },
  {
   "cell_type": "code",
   "execution_count": null,
   "metadata": {
    "collapsed": true
   },
   "outputs": [],
   "source": []
  },
  {
   "cell_type": "code",
   "execution_count": 25,
   "metadata": {
    "collapsed": false
   },
   "outputs": [
    {
     "data": {
      "text/plain": [
       "'1 2 3'"
      ]
     },
     "execution_count": 25,
     "metadata": {},
     "output_type": "execute_result"
    }
   ],
   "source": [
    "' '.join(map(str,[1,2,3]))"
   ]
  },
  {
   "cell_type": "code",
   "execution_count": 27,
   "metadata": {
    "collapsed": false
   },
   "outputs": [],
   "source": [
    "apply_strain('/Users/zhenzhu/GitHub/POSCAR_generation/Notebook/POSCAR_GeS_0',2,0.02)"
   ]
  },
  {
   "cell_type": "code",
   "execution_count": 28,
   "metadata": {
    "collapsed": false
   },
   "outputs": [
    {
     "data": {
      "text/plain": [
       "'1_12'"
      ]
     },
     "execution_count": 28,
     "metadata": {},
     "output_type": "execute_result"
    }
   ],
   "source": [
    "'_'.join(['1','12'])"
   ]
  },
  {
   "cell_type": "code",
   "execution_count": null,
   "metadata": {
    "collapsed": true
   },
   "outputs": [],
   "source": []
  },
  {
   "cell_type": "code",
   "execution_count": null,
   "metadata": {
    "collapsed": true
   },
   "outputs": [],
   "source": []
  }
 ],
 "metadata": {
  "anaconda-cloud": {},
  "kernelspec": {
   "display_name": "Python [conda root]",
   "language": "python",
   "name": "conda-root-py"
  },
  "language_info": {
   "codemirror_mode": {
    "name": "ipython",
    "version": 3
   },
   "file_extension": ".py",
   "mimetype": "text/x-python",
   "name": "python",
   "nbconvert_exporter": "python",
   "pygments_lexer": "ipython3",
   "version": "3.5.2"
  }
 },
 "nbformat": 4,
 "nbformat_minor": 2
}
