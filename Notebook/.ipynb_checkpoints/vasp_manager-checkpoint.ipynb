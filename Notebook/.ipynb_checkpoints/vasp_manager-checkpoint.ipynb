{
 "cells": [
  {
   "cell_type": "code",
   "execution_count": 3,
   "metadata": {
    "collapsed": false
   },
   "outputs": [],
   "source": [
    "import os\n",
    "import shutil\n",
    "import atomic_info\n",
    "import math\n",
    "import numpy as np"
   ]
  },
  {
   "cell_type": "markdown",
   "metadata": {},
   "source": [
    "___\n",
    "## Set up VASP inputs:\n",
    "___"
   ]
  },
  {
   "cell_type": "code",
   "execution_count": 1,
   "metadata": {
    "collapsed": true
   },
   "outputs": [],
   "source": [
    "def create_folder(folder_path,folder_name):\n",
    "    \"\"\"\n",
    "    Create a folder to do the calculation\n",
    "    folder_path: the path you do calculation\n",
    "    folder_name: the folder name you want to create\n",
    "    \"\"\"\n",
    "    new_folder=os.path.join(folder_path,folder_name)\n",
    "    if not os.path.exists(new_folder):\n",
    "        os.makedirs(new_folder)\n",
    "    return new_folder"
   ]
  },
  {
   "cell_type": "code",
   "execution_count": 5,
   "metadata": {
    "collapsed": false
   },
   "outputs": [],
   "source": [
    "def set_INCAR(folder_path=os.curdir,ISIF=2,ENCUT=500,ISMEAR=-5):\n",
    "    \"\"\"\n",
    "    set up a INCAR file for PBE calculation\n",
    "    default: no lattice optimization\n",
    "    folder_path: you need to specify the folder path of the calculations\n",
    "    ISIF: VASP parameter (ISIF=3 for lattice optimization)\n",
    "    ENCUT: VASP parameter\n",
    "    ISMEAR: VASP parameter\n",
    "    \"\"\"\n",
    "    filename = folder_path+'/INCAR'\n",
    "    f_incar = open(filename,'w')\n",
    "    f_incar.writelines('System = PBE calc'+'\\n')\n",
    "    f_incar.writelines('ISMEAR = '+str(ISMEAR)+'\\n')\n",
    "    #f_incar.writelines('SIGMA = 0.1'+'\\n')\n",
    "    f_incar.writelines('ENCUT = '+str(ENCUT)+'\\n')\n",
    "    f_incar.writelines('IBRION=2; '+ 'ISIF='+str(ISIF)+'; NSW=100\\n')\n",
    "    f_incar.writelines('EDIFF  = 0.1E-05'+'\\n')\n",
    "    f_incar.writelines('EDIFFG = -0.01\\n')\n",
    "    f_incar.writelines('NEDOS = 4001')\n",
    "    f_incar.close()\n",
    "#set_INCAR('/Users/zhenzhu/GitHub/POSCAR_generation/test',ISMEAR=-5)"
   ]
  },
  {
   "cell_type": "code",
   "execution_count": 26,
   "metadata": {
    "collapsed": true
   },
   "outputs": [],
   "source": [
    "def set_INCAR_HSE(folder_path=os.curdir,NSW=100,ISIF=2,ENCUT=400,ISMEAR=-5):\n",
    "    \"\"\"\n",
    "    set up a INCAR file for HSE calculation\n",
    "    default: not optimizing the lattice; energy cutoff: 400 eV\n",
    "    \"\"\"\n",
    "    incar_open = open(folder_path+'/INCAR','w')\n",
    "    incar_open.writelines('LREAL = .FALSE.\\nENCUT = '+str(ENCUT)+'\\nALGO = All\\nEDIFF = 1e-5\\n')\n",
    "    incar_open.writelines('EDIFFG = -0.02\\nLVHAR = .TRUE.\\nIBRION = 2\\nISIF = '+str(ISIF)+'\\nNSW = '+str(NSW)+'\\n')\n",
    "    incar_open.writelines('GGA_COMPAT = F\\nNELM = 100\\nNELMIN = 5\\nLASPH = .TRUE.\\nISMEAR = '+str(ISMEAR)+'\\n')\n",
    "    incar_open.writelines('LHFCALC = .TRUE.\\nAEXX = 0.25\\nHFSCREEN = 0.2\\nPRECFOCK = Fast\\nLORBIT = 10\\nISYM=2\\n')\n",
    "    incar_open.writelines('NEDOS = 3001')\n",
    "    incar_open.close()\n",
    "#set_INCAR_HSE()"
   ]
  },
  {
   "cell_type": "code",
   "execution_count": 27,
   "metadata": {
    "collapsed": true
   },
   "outputs": [],
   "source": [
    "#\n",
    "# set up POTCAR\n",
    "# filenames: a list of elements\n",
    "# POTCAR_path: the folder you store all your POTCAR files\n",
    "#\n",
    "def set_POTCAR(POTCAR_path,elem_list,combined_POTCAR_path):\n",
    "    \"\"\"\n",
    "    set up POTCAR\n",
    "    input: POTCAR_path, elem_list, combined_POTCAR_path\n",
    "    filenames: a list of elements\n",
    "    POTCAR_path: the folder you store all your POTCAR files\n",
    "    \"\"\"\n",
    "    with open(combined_POTCAR_path,'w') as outfile:\n",
    "        for elem_name in elem_list:\n",
    "            with open(POTCAR_path+'/'+elem_name+'/'+'POTCAR') as infile:\n",
    "                outfile.write(infile.read())"
   ]
  },
  {
   "cell_type": "code",
   "execution_count": 28,
   "metadata": {
    "collapsed": false
   },
   "outputs": [],
   "source": [
    "#help(set_POTCAR)"
   ]
  },
  {
   "cell_type": "code",
   "execution_count": 29,
   "metadata": {
    "collapsed": true
   },
   "outputs": [],
   "source": [
    "def set_KPOINTS(folder_path,kx,ky,kz,shifted=False):\n",
    "    \"\"\"\n",
    "    set up a KPOINTS in a folder\n",
    "    provide 'folder', kx, ky, kz as input\n",
    "    \"\"\"\n",
    "    filename = folder_path+'/KPOINTS'\n",
    "    kx_ky_kz = '\\t'.join([str(kx),str(ky),str(kz)])\n",
    "    if shifted:\n",
    "        shift = '\\t'.join([str(0.5),str(0.5),str(0.5)])\n",
    "    else:\n",
    "        shift = '\\t'.join([str(0),str(0),str(0)])\n",
    "    f_kpoints = open(filename,'w')\n",
    "    f_kpoints.writelines('k-points')\n",
    "    f_kpoints.writelines('\\n')\n",
    "    f_kpoints.writelines('0\\n')\n",
    "    f_kpoints.writelines('M\\n')\n",
    "    f_kpoints.writelines(kx_ky_kz+'\\n')\n",
    "    f_kpoints.writelines(shift)\n",
    "    f_kpoints.close()"
   ]
  },
  {
   "cell_type": "code",
   "execution_count": 47,
   "metadata": {
    "collapsed": false
   },
   "outputs": [],
   "source": [
    "#\n",
    "# creat POSCAR file into the folder that put\n",
    "#\n",
    "# atomic_info.write_POSCAR(compound,phase_index,folder_path=os.curdir,show_screen=False)\n",
    "def set_POSCAR(from_path,to_path,poscar='POSCAR'):\n",
    "    \"\"\"\n",
    "    from_path: the folder contains POSCAR file or CONTCAR file\n",
    "    to_path: the folder to do calculation\n",
    "    poscar: by default = 'POSCAR'; can be changed to 'CONTCAR'\n",
    "    \"\"\"\n",
    "    from_POSCAR = os.path.join(from_path,poscar)\n",
    "    to_POSCAR=to_path+'/POSCAR'\n",
    "    shutil.copy2(from_POSCAR,to_POSCAR)"
   ]
  },
  {
   "cell_type": "markdown",
   "metadata": {},
   "source": [
    "___\n",
    "## Set up submission file\n",
    "___"
   ]
  },
  {
   "cell_type": "code",
   "execution_count": 31,
   "metadata": {
    "collapsed": true
   },
   "outputs": [],
   "source": [
    "def set_submit_stampede(to_folder=os.getcwd()):\n",
    "    \"\"\" \n",
    "    1. submit to stampede \n",
    "    2. this will create a submission  file in the folder to do calculations\n",
    "    \"\"\"\n",
    "    submit_file=open(os.path.join(to_folder,'submit.sh'),'w')\n",
    "    submit_file.writelines('#!/bin/bash'+'\\n')\n",
    "    submit_file.writelines('# stampede.tacc.utexas.edu: PWD'+'\\n')\n",
    "    submit_file.writelines('#SBATCH -J job'+'\\n')\n",
    "    submit_file.writelines('#SBATCH -o job.o%j'+'\\n')\n",
    "    submit_file.writelines('#SBATCH -p normal'+'\\n')\n",
    "    submit_file.writelines('#SBATCH -n 16'+'\\n')\n",
    "    submit_file.writelines('#SBATCH -t 24:00:00'+'\\n')\n",
    "    submit_file.writelines('#SBATCH --mail-user=zhen_zhu@126.com'+'\\n')\n",
    "    submit_file.writelines('#SBATCH -A TG-DMR070072N'+'\\n')\n",
    "    submit_file.writelines('module swap intel intel/14.0.1.106'+'\\n')\n",
    "    submit_file.writelines('module swap mvapich2 impi/4.1.3.049'+'\\n')\n",
    "    submit_file.writelines('cd '+to_folder+'\\n')\n",
    "    submit_file.writelines('ibrun $HOME/bin/vasp.541_p3.stampede'+'\\n')\n",
    "    submit_file.close()\n",
    "    return to_folder + '/' + 'submit.sh'\n",
    "#set_submit_stampede()"
   ]
  },
  {
   "cell_type": "code",
   "execution_count": 2,
   "metadata": {
    "collapsed": false
   },
   "outputs": [
    {
     "ename": "NameError",
     "evalue": "name 'os' is not defined",
     "output_type": "error",
     "traceback": [
      "\u001b[0;31m---------------------------------------------------------------------------\u001b[0m",
      "\u001b[0;31mNameError\u001b[0m                                 Traceback (most recent call last)",
      "\u001b[0;32m<ipython-input-2-ab0c80c3e5a0>\u001b[0m in \u001b[0;36m<module>\u001b[0;34m()\u001b[0m\n\u001b[1;32m      1\u001b[0m \u001b[0;31m## submit to guild\u001b[0m\u001b[0;34m\u001b[0m\u001b[0;34m\u001b[0m\u001b[0m\n\u001b[0;32m----> 2\u001b[0;31m \u001b[0;32mdef\u001b[0m \u001b[0mset_submit_guild\u001b[0m\u001b[0;34m(\u001b[0m\u001b[0mto_folder\u001b[0m\u001b[0;34m=\u001b[0m\u001b[0mos\u001b[0m\u001b[0;34m.\u001b[0m\u001b[0mgetcwd\u001b[0m\u001b[0;34m(\u001b[0m\u001b[0;34m)\u001b[0m\u001b[0;34m)\u001b[0m\u001b[0;34m:\u001b[0m\u001b[0;34m\u001b[0m\u001b[0m\n\u001b[0m\u001b[1;32m      3\u001b[0m     \"\"\" \n\u001b[1;32m      4\u001b[0m     \u001b[0;36m1.\u001b[0m \u001b[0msubmit\u001b[0m \u001b[0mto\u001b[0m \u001b[0mguild\u001b[0m\u001b[0;34m\u001b[0m\u001b[0m\n\u001b[1;32m      5\u001b[0m     \u001b[0;36m2.\u001b[0m \u001b[0mthis\u001b[0m \u001b[0mwill\u001b[0m \u001b[0mcreate\u001b[0m \u001b[0ma\u001b[0m \u001b[0msubmission\u001b[0m  \u001b[0mfile\u001b[0m \u001b[0;32min\u001b[0m \u001b[0mthe\u001b[0m \u001b[0mfolder\u001b[0m \u001b[0mto\u001b[0m \u001b[0mdo\u001b[0m \u001b[0mcalculations\u001b[0m\u001b[0;34m\u001b[0m\u001b[0m\n",
      "\u001b[0;31mNameError\u001b[0m: name 'os' is not defined"
     ]
    }
   ],
   "source": [
    "## submit to guild\n",
    "def set_submit_guild(to_folder=os.getcwd()):\n",
    "    \"\"\" \n",
    "    1. submit to guild \n",
    "    2. this will create a submission  file in the folder to do calculations\n",
    "    3. the submission file is well-prepared. No need to modify it.\n",
    "    4. to_folder needs to be specified if current folder is not the \n",
    "    \"\"\"\n",
    "    submit_file=open(os.path.join(to_folder,'submit.sh'),'w')\n",
    "    submit_file.writelines('#!/bin/bash'+'\\n')\n",
    "    submit_file.writelines('# stampede.tacc.utexas.edu: PWD'+'\\n')\n",
    "    submit_file.writelines('#PBS -N job'+'\\n')\n",
    "    submit_file.writelines('#PBS -l nodes=1:ppn=8'+'\\n')\n",
    "    submit_file.writelines('#PBS -l walltime=48:00:00'+'\\n')\n",
    "    submit_file.writelines('#PBS -j oe'+'\\n')\n",
    "    submit_file.writelines('#PBS -V'+'\\n')\n",
    "    submit_file.writelines('cd '+to_folder+'\\n')\n",
    "    submit_file.writelines('source /usr/local/intel/composer_xe_2013.5.192/bin/compilervars.sh intel64'+'\\n')\n",
    "    submit_file.writelines('source /usr/local/intel/composer_xe_2013.5.192/mkl/bin/mklvars.sh intel64'+'\\n')\n",
    "    submit_file.writelines('export PATH=/usr/local/openmpi-1.6.4/bin:$PATH'+'\\n')\n",
    "    submit_file.writelines('export LD_LIBRARY_PATH=/usr/local/openmpi-1.6.4/lib:$LD_LIBRARY_PATH'+'\\n')\n",
    "    submit_file.writelines('ulimit -s unlimited'+'\\n')\n",
    "    submit_file.writelines('/usr/local/openmpi-1.6.4/bin/mpirun -np 8 -machinefile $PBS_NODEFILE /home/vandewalle/codes/guild/VASP/vasp.541_p3.guild')\n",
    "    submit_file.close()\n",
    "    return to_folder + '/' + 'submit.sh'\n",
    "#set_submit_guild()"
   ]
  },
  {
   "cell_type": "markdown",
   "metadata": {},
   "source": [
    "___\n",
    "## Check whether a VASP calculation is completed\n",
    "___"
   ]
  },
  {
   "cell_type": "code",
   "execution_count": 36,
   "metadata": {
    "collapsed": true
   },
   "outputs": [],
   "source": [
    "def oszicar_complete(file):\n",
    "    \"\"\"\n",
    "    check whether OSZICAR is completed\n",
    "    \"\"\"\n",
    "    if not os.path.exists(file):\n",
    "        return False\n",
    "    file_open=open(file,'r+')\n",
    "    file_cont=file_open.readlines()\n",
    "    if len(file_cont)<5:\n",
    "        return False\n",
    "    if 'F=' not in file_cont[-1].split():\n",
    "        return False\n",
    "    else:\n",
    "        return True"
   ]
  },
  {
   "cell_type": "code",
   "execution_count": 38,
   "metadata": {
    "collapsed": false
   },
   "outputs": [],
   "source": [
    "#oszicar_complete('OSZICAR')"
   ]
  },
  {
   "cell_type": "code",
   "execution_count": 35,
   "metadata": {
    "collapsed": false
   },
   "outputs": [],
   "source": [
    "def file_empty(file):\n",
    "    \"\"\"\n",
    "    check whether a file is empty\n",
    "    first check whether it exists: if not, return True\n",
    "    then check whther the file is empty or not completed: if yes, return True.\n",
    "    \"\"\"\n",
    "    if not os.path.exists(file):\n",
    "        return True\n",
    "    file_open=open(file,'r+')\n",
    "    file_cont=file_open.readlines()\n",
    "    if len(file_cont)<5:\n",
    "        return True\n",
    "    else:\n",
    "        return False"
   ]
  },
  {
   "cell_type": "markdown",
   "metadata": {},
   "source": [
    "___\n",
    "## Obtain useful results:\n",
    "___"
   ]
  },
  {
   "cell_type": "code",
   "execution_count": 40,
   "metadata": {
    "collapsed": true
   },
   "outputs": [],
   "source": [
    "def obt_TotEnergy(oszicar_file):\n",
    "    \"\"\"\n",
    "    read total energy from a completed oszicar\n",
    "    \"\"\"\n",
    "    oszicar = open(oszicar_file,'r')\n",
    "    oszicar_cont = oszicar.readlines()\n",
    "    oszicar.close()\n",
    "    return float(oszicar_cont[-1].split()[4])"
   ]
  },
  {
   "cell_type": "code",
   "execution_count": 6,
   "metadata": {
    "collapsed": true
   },
   "outputs": [],
   "source": [
    "def obt_NumOfAtoms(poscar_file):\n",
    "    \"\"\"\n",
    "    read how many atoms in each cell\n",
    "    \"\"\"\n",
    "    poscar = open(poscar_file,'r')\n",
    "    poscar_cont = poscar.readlines()\n",
    "    poscar.close()\n",
    "    num_of_atom=poscar_cont[6].split()\n",
    "    if len(num_of_atom)==1:\n",
    "        return int(num_of_atom[0])\n",
    "    else:\n",
    "        return sum([int(char) for char in num_of_atom])"
   ]
  },
  {
   "cell_type": "code",
   "execution_count": 17,
   "metadata": {
    "collapsed": true
   },
   "outputs": [],
   "source": [
    "#\n",
    "# normalize the total energy of a system\n",
    "#\n",
    "def energy_per_atom(oszicar_file,poscar_file):\n",
    "    return obt_TotEnergy(oszicar_file)/obt_NumOfAtoms(poscar_file)"
   ]
  },
  {
   "cell_type": "code",
   "execution_count": 42,
   "metadata": {
    "collapsed": true
   },
   "outputs": [],
   "source": [
    "def obt_FermiLev(vasprun_xml):\n",
    "    \"\"\"\n",
    "    read Fermi level of the system\n",
    "    \"\"\"\n",
    "    vasprun_out = open(vasprun_xml,'r+')\n",
    "    for line in vasprun_out:\n",
    "        if 'efermi' in line:\n",
    "            return float(line.split()[2])\n",
    "            break\n",
    "    vasprun_out.close()"
   ]
  },
  {
   "cell_type": "code",
   "execution_count": 43,
   "metadata": {
    "collapsed": true
   },
   "outputs": [],
   "source": [
    "#\n",
    "# read DOSCAR file and output band gap value, VBM, and CBM\n",
    "#\n",
    "def obt_bandgap(doscar,fermi_level):\n",
    "    \"\"\"\n",
    "    read DOSCAR file and output a list: [band gap value, VBM, CBM]\n",
    "    \"\"\"\n",
    "    doscar_out = open(doscar,'r')\n",
    "    count = 0\n",
    "    small_number = 0.000001\n",
    "    gap_value = 0.\n",
    "    VBM = fermi_level\n",
    "    CBM = fermi_level\n",
    "    conti_zero = []\n",
    "    for line in doscar_out:\n",
    "        count =  count + 1\n",
    "        if count > 6:\n",
    "            val_list = [float(line.split()[i]) for i in range(3)]\n",
    "            #print(val_list)\n",
    "            if val_list[1]<small_number:\n",
    "                conti_zero.append(val_list[0])\n",
    "                #print(val_list)\n",
    "                #break\n",
    "            else:\n",
    "                if len(conti_zero)>=2 and conti_zero[0]<=fermi_level+0.05 and conti_zero[-1]>fermi_level:\n",
    "                    gap_value = (conti_zero[-1]-conti_zero[0])/(len(conti_zero)-1)*(len(conti_zero)+1)\n",
    "                    #print(conti_zero)\n",
    "                    VBM = conti_zero[0]-(conti_zero[-1]-conti_zero[0])/len(conti_zero)\n",
    "                    CBM = conti_zero[-1]+(conti_zero[-1]-conti_zero[0])/len(conti_zero)\n",
    "                    break\n",
    "                #elif conti_zero[0]>fermi_level:\n",
    "                #    break\n",
    "                else:\n",
    "                    conti_zero=[]\n",
    "    doscar_out.close()\n",
    "    return [gap_value,VBM,CBM]"
   ]
  },
  {
   "cell_type": "code",
   "execution_count": 71,
   "metadata": {
    "collapsed": false
   },
   "outputs": [],
   "source": [
    "def lattice_cons(num_lattice):\n",
    "    return math.sqrt(num_lattice[0]**2+num_lattice[1]**2+num_lattice[2]**2)\n",
    "def lattice_diff(length1,length2):\n",
    "    if abs(abs(length1)-abs(length2))/abs(length1)<0.01:\n",
    "        return False\n",
    "    else:\n",
    "        return True\n",
    "def lattice_angle(a,b):\n",
    "    return np.arccos(abs(sum([a[i]*b[i] for i in range(3)]))/lattice_cons(a)/lattice_cons(b)) \n",
    "def compare2DLattice(poscar1,poscar2):\n",
    "    \"\"\"\n",
    "    compare length of a1 and a2\n",
    "    compare angle of a1 and a2\n",
    "    \"\"\"\n",
    "    lattice1=[]\n",
    "    lattice2=[]\n",
    "    if not os.path.exists(poscar1) or not os.path.exists(poscar2):\n",
    "        return False\n",
    "    poscar1_open = open(poscar1,'r')\n",
    "    poscar2_open = open(poscar2,'r')\n",
    "    poscar1_cont = poscar1_open.readlines()\n",
    "    poscar2_cont = poscar2_open.readlines()\n",
    "    for i in [2,3]:\n",
    "        lattice1.append([float(poscar1_cont[i].split()[j]) for j in range(3)])\n",
    "        lattice2.append([float(poscar2_cont[i].split()[j]) for j in range(3)])\n",
    "    print(lattice1,lattice2)\n",
    "    for i in [0,1]:\n",
    "        if lattice_diff(lattice_cons(lattice1[i]),lattice_cons(lattice2[i])):\n",
    "            return False\n",
    "    if lattice_diff(lattice_angle(lattice1[0],lattice1[1]),lattice_angle(lattice2[0],lattice2[1])):\n",
    "        return False\n",
    "    #print(lattice_angle(lattice1[0],lattice1[1]))\n",
    "    return True\n",
    "def obt_Lattice(poscar_file):\n",
    "    \"\"\"\n",
    "    poscar_file: the file path\n",
    "    \"\"\"\n",
    "    poscar = open(poscar_file,'r')\n",
    "    poscar_cont = poscar.readlines()\n",
    "    "
   ]
  },
  {
   "cell_type": "code",
   "execution_count": 72,
   "metadata": {
    "collapsed": false
   },
   "outputs": [
    {
     "name": "stdout",
     "output_type": "stream",
     "text": [
      "[[4.4427836465701995, 0.0, 0.0], [0.0, 4.43477753018683, 0.000112159307183]] [[4.436941095352165, 0.0, -0.0], [0.0, 4.436941095352165, -0.0]]\n"
     ]
    },
    {
     "data": {
      "text/plain": [
       "True"
      ]
     },
     "execution_count": 72,
     "metadata": {},
     "output_type": "execute_result"
    }
   ],
   "source": [
    "compare2DLattice('InCl_P0_POSCAR','InCl_P2_POSCAR')"
   ]
  },
  {
   "cell_type": "code",
   "execution_count": null,
   "metadata": {
    "collapsed": true
   },
   "outputs": [],
   "source": []
  },
  {
   "cell_type": "markdown",
   "metadata": {},
   "source": [
    "___\n",
    "## Band alignment calculation\n",
    "___"
   ]
  },
  {
   "cell_type": "code",
   "execution_count": 44,
   "metadata": {
    "collapsed": true
   },
   "outputs": [],
   "source": [
    "def MAV_empty(file):\n",
    "    file_open=open(file,'r+')\n",
    "    file_cont=file_open.readlines()\n",
    "    if len(file_cont)<5:\n",
    "        return True\n",
    "    else:\n",
    "        return False"
   ]
  },
  {
   "cell_type": "code",
   "execution_count": 45,
   "metadata": {
    "collapsed": true
   },
   "outputs": [],
   "source": [
    "def dan_empty(file):\n",
    "    file_open=open(file,'r+')\n",
    "    file_cont=file_open.readlines()\n",
    "    if len(file_cont)<5:\n",
    "        return True\n",
    "    else:\n",
    "        return False"
   ]
  },
  {
   "cell_type": "code",
   "execution_count": 46,
   "metadata": {
    "collapsed": true
   },
   "outputs": [],
   "source": [
    "# to obtain the average potential of VACUUM level\n",
    "def ave_n_val(energy_list,n):\n",
    "    list_ave_n = []\n",
    "    if len(energy_list)<n:\n",
    "        return sum(energy_list)/n\n",
    "    for i in range(len(energy_list)-n+1):\n",
    "        list_ave_n.append(sum(energy_list[i:i+n])/n)\n",
    "    return max(list_ave_n)"
   ]
  },
  {
   "cell_type": "code",
   "execution_count": null,
   "metadata": {
    "collapsed": true
   },
   "outputs": [],
   "source": []
  }
 ],
 "metadata": {
  "anaconda-cloud": {},
  "kernelspec": {
   "display_name": "Python [conda root]",
   "language": "python",
   "name": "conda-root-py"
  },
  "language_info": {
   "codemirror_mode": {
    "name": "ipython",
    "version": 3
   },
   "file_extension": ".py",
   "mimetype": "text/x-python",
   "name": "python",
   "nbconvert_exporter": "python",
   "pygments_lexer": "ipython3",
   "version": "3.5.2"
  }
 },
 "nbformat": 4,
 "nbformat_minor": 2
}
