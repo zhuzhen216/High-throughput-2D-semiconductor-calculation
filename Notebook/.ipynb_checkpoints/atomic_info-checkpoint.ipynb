{
 "cells": [
  {
   "cell_type": "code",
   "execution_count": 2,
   "metadata": {
    "collapsed": true
   },
   "outputs": [],
   "source": [
    "import math"
   ]
  },
  {
   "cell_type": "code",
   "execution_count": 34,
   "metadata": {
    "collapsed": false
   },
   "outputs": [],
   "source": [
    "class element:\n",
    "    GroupIII = ['B','Al','Ga','In']\n",
    "    GroupIV = ['C','Si','Ge','Sn','Pb']\n",
    "    GroupV = ['N','P','As','Sb','Bis']\n",
    "    GroupVI = ['O','S','Se','Te']\n",
    "    GroupVII = ['F','Cl','Br','I']\n",
    "    atomic_mass={'B':10.811,'Al':26.5815,'Ga':69.723,'In':114.818,'C':12.0107,'Si':28.0855,'Ge':72.61,\n",
    "                 'Sn':118.710,'Pb':207.2,'N':14.0067,'P':30.9738,'As':74.9216,'Sb':121.76,'Bis':208.58,\n",
    "                 'O':15.9994,'S':32.066,'Se':78.96,'Te':127.60,'F':18.9984,'Cl':35.4527,'Br':79.504,'I':126.90447}\n",
    "    atomic_radius = {'B':87.,'Al':118.,'Ga':138.,'In':156.,'C':67.,'Si':111.,'Ge':125.,'Sn':145.,'Pb':154.,\n",
    "                     'N':56.,'P':98.,'As':114.,'Sb':133.,'Bis':143.,'O':48.,'S':88.,'Se':103.,'Te':123.,'F':42.,\n",
    "                     'Cl':79.,'Br':94.,'I':115.}\n",
    "    # http://www.thecatalyst.org/electabl.html\n",
    "    atomic_elec_neg = {'B':2.,'Al':1.5,'Ga':1.6,'In':1.7,'C':2.5,'Si':1.8,'Ge':1.8,'Sn':1.8,'Pb':1.9,'N':3.0,'P':2.1,\n",
    "                       'As':2.0,'Sb':1.9,'Bis':1.9,'O':3.5,'S':2.5,'Se':2.4,'Te':2.1,'F':4.0,'Cl':3.0,'Br':2.8,'I':2.5}\n",
    "    atomic_number = {'B':5,'Al':13,'Ga':31,'In':49,'C':6,'Si':14,'Ge':32,'Sn':50,'Pb':82,'N':7,'P':15,\n",
    "                       'As':33,'Sb':51,'Bis':83,'O':8,'S':16,'Se':34,'Te':52,'F':9,'Cl':17,'Br':35,'I':53}\n",
    "    atomic_row_index = {'B':5,'Al':13,'Ga':31,'In':49,'C':6,'Si':14,'Ge':32,'Sn':50,'Pb':82,'N':7,'P':15,\n",
    "                       'As':33,'Sb':51,'Bis':83,'O':8,'S':16,'Se':34,'Te':52,'F':9,'Cl':17,'Br':35,'I':53}\n",
    "    atomic_row_index={'B':2,'Al':3,'Ga':4,'In':5,'C':2,'Si':3,'Ge':4,'Sn':5,'Pb':6,'N':2,'P':3,'As':4,'Sb':5,'Bis':6,'O':2,'S':3,'Se':4,'Te':5,'F':2,'Cl':3,'Br':4,'I':5}\n",
    "\n",
    "    atomic_elec_affinity={'B': 27,'Al':45,'Ga':30,'In':29,'C':123.4,'Si':135.0,'Ge':120,'Sn':122,'Pb':110,'N':-7,'P':72.4,'As':78,'Sb':102,'Bis':110,'O':142.5,'S':202.5,'Se':197.0,'Te':192.1,'F':331.4,'Cl':352.4,'Br':327.9,'I':298.4}\n",
    "    atomic_ionization_energy = {'B': 800.6,'Al':577.6,'Ga':578.8,'In':558.3,'C':1086.4,'Si':786.4,'Ge':762.1,'Sn':708.6,'Pb':722.9,'N':1420.3,'P':1011.7,'As':947,'Sb':833.7,'Bis':710.6,'O':1313.9,'S':999.6,'Se':940.9,'Te':869.2,'F':1681.0,'Cl':1251.1,'Br':1139.9,'I':1008.4}\n",
    "class structure_and_lattice:\n",
    "    compare_radius = 98\n",
    "    # black phosphorus, blue phosphorus, SiS structure\n",
    "    frac=[[(0.75,0.5997,0.2229),(0.25,0.0997,0.0718),(0.25,0.014384,0.2094),(0.75,0.5144,0.0854)],[(0.0,0.0,0.0113),(0.333,0.333,-0.05132)],[(0.0,0.25,0.5785),(0.5,0.75,0.42152),(0.,0.25,0.41),(0.5,0.75,0.59)]]\n",
    "    lattice = [[(3.348,0.,0.),(0.,4.623,0.),(0.,0.,20.)],[(2.881076913,-1.662861501,0.0),(2.881077039,1.662861720,0.0),(0.0,0.0,20.)],[(3.6,0,0),(0,3.6,0),(0,0,20)]]\n",
    "    lattice_sites = [4,2,4]\n",
    "    phase = [0,1,2]"
   ]
  },
  {
   "cell_type": "code",
   "execution_count": 4,
   "metadata": {
    "collapsed": false
   },
   "outputs": [],
   "source": [
    "class ternary_structure:\n",
    "    compare_radius = 120 # for GaSeCl\n",
    "    frac = [[(0.747,0.685,0.103),(0.247,0.189,0.045),(0.247,-0.04,0.109),(0.747,0.464,0.039),(0.246,-0.024,-0.01),(0.746,0.467,0.158)],[(0,0,0.009),(0.333,0.333,0.95),(0,0,0.12)]]\n",
    "    lattice = [[(3.9,0,0),(0,5.58,0),(0,0,30)],[(3.340,-1.929,0),(3.340,1.929,0),(0,0,20)]]\n",
    "    lattice_sites = [6,4]\n",
    "    phase = [0,1]"
   ]
  },
  {
   "cell_type": "code",
   "execution_count": 5,
   "metadata": {
    "collapsed": true
   },
   "outputs": [],
   "source": [
    "# initialize all the possible compounds\n",
    "compound_III_VII = []\n",
    "for char1 in element.GroupIII:\n",
    "    for char2 in element.GroupVII:\n",
    "        compound_III_VII.append(char1+char2)\n",
    "compound_IV_VI = []\n",
    "for char1 in element.GroupIV:\n",
    "    for char2 in element.GroupVI:\n",
    "        compound_IV_VI.append(char1+char2)\n",
    "elem_V = element.GroupV\n",
    "compound_all = elem_V+compound_III_VII+compound_IV_VI\n",
    "compound_phase = {}\n",
    "for compound in compound_all:\n",
    "    compound_phase[compound]=[compound+'_'+str(structure_and_lattice.phase[i]) for i in range(len(structure_and_lattice.phase))]\n",
    "#compound_phase"
   ]
  },
  {
   "cell_type": "code",
   "execution_count": 29,
   "metadata": {
    "collapsed": true
   },
   "outputs": [],
   "source": [
    "compound_III_VI_VII=[]\n",
    "for char_iii in element.GroupIII:\n",
    "    for char_vi in element.GroupVI:\n",
    "        for char_vii in element.GroupVII:\n",
    "            compound_III_VI_VII.append(char_iii+char_vi+char_vii)"
   ]
  },
  {
   "cell_type": "code",
   "execution_count": 30,
   "metadata": {
    "collapsed": false
   },
   "outputs": [],
   "source": [
    "compound_IV_V_VII=[]\n",
    "for char_iv in element.GroupIV:\n",
    "    if char_iv == 'C':\n",
    "        continue\n",
    "    for char_v in element.GroupV:\n",
    "        #if char_v == 'Bis':\n",
    "        #    char_v = 'Bi'\n",
    "        for char_vii in element.GroupVII:\n",
    "            compound_IV_V_VII.append(char_iv+char_v+char_vii)"
   ]
  },
  {
   "cell_type": "code",
   "execution_count": 32,
   "metadata": {
    "collapsed": false
   },
   "outputs": [],
   "source": [
    "#compound_IV_V_VII"
   ]
  },
  {
   "cell_type": "code",
   "execution_count": 8,
   "metadata": {
    "collapsed": false
   },
   "outputs": [],
   "source": [
    "#compound_III_VI_VII\n",
    "#len(compound_III_VI_VII)"
   ]
  },
  {
   "cell_type": "code",
   "execution_count": 9,
   "metadata": {
    "collapsed": false
   },
   "outputs": [],
   "source": [
    "# given a certain compound, count how many elements in this compound\n",
    "# return the element name in a list\n",
    "# can deal wi\n",
    "#\n",
    "def count_elem(compound):\n",
    "    \"\"\"\n",
    "    input: compound name (string)\n",
    "    output: element in compound (list)\n",
    "    \"\"\"\n",
    "    num_upper = sum(1 for char in compound if char.isupper())\n",
    "    ret = []\n",
    "    if num_upper == 1:\n",
    "        if compound in element.GroupV or compound=='Bi':\n",
    "            ret.append(compound)\n",
    "            return ret\n",
    "        else:\n",
    "            print('The compound is not correct! Please input V, IV-VI, or III-VII only!')\n",
    "            return None\n",
    "    if num_upper == 2:\n",
    "        i = 1\n",
    "        while not compound[i].isupper():\n",
    "            i = i + 1\n",
    "        if (compound[0:i] in element.GroupIII and compound[i:] not in element.GroupVII) or (compound[0:i] in element.GroupVII and compound[i:] not in element.GroupIII):\n",
    "            print('The compound is not correct! Please input V, IV-VI, or III-VII only!')\n",
    "            return None\n",
    "        elif (compound[0:i] in element.GroupIV and compound[i:] not in element.GroupVI) or (compound[0:i] in element.GroupVI and compound[i:] not in element.GroupIV):\n",
    "            print('The compound is not correct! Please input V, IV-VI, or III-VII only!')\n",
    "            return None\n",
    "        ret.append(compound[0:i])\n",
    "        ret.append(compound[i:])\n",
    "        return ret\n",
    "    if num_upper == 3:\n",
    "        #ret = []\n",
    "        i = 0\n",
    "        while i < len(compound):\n",
    "            temp = ''\n",
    "            if compound[i].isupper():\n",
    "                temp += compound[i]\n",
    "                i += 1\n",
    "                while i<len(compound) and not compound[i].isupper():\n",
    "                    temp += compound[i]\n",
    "                    i += 1\n",
    "                ret.append(temp)\n",
    "        if (ret[0] in element.GroupIII and ret[1] in element.GroupVI and ret[2] in element.GroupVII) or (ret[0] in element.GroupIV and ret[1] in element.GroupV and ret[2] in element.GroupVII):\n",
    "            return ret\n",
    "        else:\n",
    "            print('The compound is not correct! Please input III-VI-VII or IV-V-VII(order matters) !')\n",
    "            return None\n",
    "#count_elem('GaSeI')"
   ]
  },
  {
   "cell_type": "code",
   "execution_count": 16,
   "metadata": {
    "collapsed": false
   },
   "outputs": [],
   "source": [
    "#count_elem('GeBisI')"
   ]
  },
  {
   "cell_type": "code",
   "execution_count": 13,
   "metadata": {
    "collapsed": false
   },
   "outputs": [],
   "source": [
    "# the lattice parameters are scaled by comparing the atomic radius\n",
    "def scale(compound):\n",
    "    \"\"\"\n",
    "    scale the structure based on atomic radius\n",
    "    \"\"\"\n",
    "    seperate = count_elem(compound)\n",
    "    scale_factor = 1.\n",
    "    if len(seperate)==1:\n",
    "        scale_factor = element.atomic_radius[seperate[0]]/structure_and_lattice.compare_radius\n",
    "        return math.sqrt(scale_factor)\n",
    "    elif len(seperate) == 2:\n",
    "        scale_factor = sum(element.atomic_radius[chars] for chars in seperate[0:2])/structure_and_lattice.compare_radius/2\n",
    "        return math.sqrt(scale_factor)\n",
    "    else:\n",
    "        scale_factor = sum(element.atomic_radius[chars] for chars in seperate[0:2])/ternary_structure.compare_radius/2\n",
    "        return math.sqrt(scale_factor)\n",
    "#scale('AlSeCl')\n",
    "#tuple(map(lambda i:i*2,(1,2)))"
   ]
  },
  {
   "cell_type": "code",
   "execution_count": 14,
   "metadata": {
    "collapsed": true
   },
   "outputs": [],
   "source": [
    "def create_lattice_elem(compound,phase):\n",
    "    \"\"\"\n",
    "    create lattice for elementary structures : N, P, As, Sb, Bi\n",
    "    \"\"\"\n",
    "    return [tuple(map(lambda x: x*scale(compound),structure_and_lattice.lattice[phase][i])) for i in range(len(structure_and_lattice.lattice[phase]))]"
   ]
  },
  {
   "cell_type": "code",
   "execution_count": 15,
   "metadata": {
    "collapsed": true
   },
   "outputs": [],
   "source": [
    "def create_lattice_binary(compound,phase):\n",
    "    \"\"\"\n",
    "    create lattice for binary IV-VI compounds\n",
    "    \"\"\"\n",
    "    return [tuple(map(lambda x: x*scale(compound),structure_and_lattice.lattice[phase][i])) for i in range(len(structure_and_lattice.lattice[phase]))]\n",
    "#create_lattice('GeSe',0)"
   ]
  },
  {
   "cell_type": "code",
   "execution_count": 17,
   "metadata": {
    "collapsed": true
   },
   "outputs": [],
   "source": [
    "def create_lattice_ternary(compound,phase):\n",
    "    \"\"\"\n",
    "    create lattice for ternary III-VI-VII compounds\n",
    "    \"\"\"\n",
    "    return [tuple(map(lambda x: x*scale(compound),ternary_structure.lattice[phase][i])) for i in range(len(ternary_structure.lattice[phase]))]\n",
    "#create_lattice('GeSe',0)"
   ]
  },
  {
   "cell_type": "code",
   "execution_count": 27,
   "metadata": {
    "collapsed": false
   },
   "outputs": [],
   "source": [
    "#create_lattice_ternary('GeBisCl',1)"
   ]
  },
  {
   "cell_type": "code",
   "execution_count": 24,
   "metadata": {
    "collapsed": false
   },
   "outputs": [],
   "source": [
    "# this will generate all the possible structures in selected compound group\n",
    "def write_POSCAR_group(group,group_type):\n",
    "    \"\"\"\n",
    "    group_type: 1 for V, 2 for IV-VI, 3 for III-VI-VII, VI-V-VII\n",
    "    \"\"\"\n",
    "    if group_type == 3:\n",
    "        group_class = ternary_structure()\n",
    "    elif group_type == 1 or group_type == 2:\n",
    "        group_class = structure_and_lattice()\n",
    "    else:\n",
    "        print('Wrong group type: group_type: 1 for V, 2 for IV-VI, 3 for III-VI-VII or IV-V-VII!')\n",
    "        return\n",
    "    for compound in group:\n",
    "        for phase_id in group_class.phase:\n",
    "            write_POSCAR(compound, phase_id, group_type)"
   ]
  },
  {
   "cell_type": "code",
   "execution_count": 25,
   "metadata": {
    "collapsed": false
   },
   "outputs": [],
   "source": [
    "# write the generated structure to a poscar file for VASP\n",
    "def write_POSCAR(compound, phase, group_type):\n",
    "    \"\"\"\n",
    "    compound: the compound you want to generate\n",
    "    phase: the specific structural phase\n",
    "    group_type: elem, binary, or ternary\n",
    "    \"\"\"\n",
    "    filename = 'POSCAR'+'_'+compound+'_'+str(phase)\n",
    "    seperate = count_elem(compound)\n",
    "    if group_type == 1:\n",
    "        create_lattice = create_lattice_elem\n",
    "        group_class = structure_and_lattice()\n",
    "    elif group_type == 2:\n",
    "        create_lattice = create_lattice_binary\n",
    "        group_class = structure_and_lattice()\n",
    "    elif group_type == 3:\n",
    "        create_lattice = create_lattice_ternary\n",
    "        group_class = ternary_structure()\n",
    "    #num_seperate = [structure_and_lattice.lattice_sites[phase]//len(seperate) for i in range(len(seperate))]\n",
    "    num_seperate = [group_class.lattice_sites[phase]//len(seperate) for i in range(len(seperate))]\n",
    "    file_w = open(filename, 'w')\n",
    "    file_w.writelines(filename+'\\n')\n",
    "    file_w.writelines(str(1.0)+'\\n')\n",
    "    file_w.writelines(' '.join(str(j) for j in i) + '\\n' for i in create_lattice(compound,phase))\n",
    "    #file_w.writelines('\\n')\n",
    "    file_w.writelines(' '.join(seperate[i] for i in range(len(seperate))))\n",
    "    file_w.writelines('\\n')\n",
    "    file_w.writelines(' '.join(str(num_seperate[i]) for i in range(len(seperate))))\n",
    "    file_w.writelines('\\n')\n",
    "    file_w.writelines('Direct')\n",
    "    file_w.writelines(('\\n'+' '.join(str(j) for j in i)) for i in group_class.frac[phase])\n",
    "    file_w.close()"
   ]
  },
  {
   "cell_type": "code",
   "execution_count": 26,
   "metadata": {
    "collapsed": true
   },
   "outputs": [],
   "source": [
    "write_POSCAR('GeBisI',0,3)"
   ]
  },
  {
   "cell_type": "code",
   "execution_count": null,
   "metadata": {
    "collapsed": true
   },
   "outputs": [],
   "source": []
  },
  {
   "cell_type": "code",
   "execution_count": null,
   "metadata": {
    "collapsed": true
   },
   "outputs": [],
   "source": []
  }
 ],
 "metadata": {
  "anaconda-cloud": {},
  "kernelspec": {
   "display_name": "Python [conda root]",
   "language": "python",
   "name": "conda-root-py"
  },
  "language_info": {
   "codemirror_mode": {
    "name": "ipython",
    "version": 3
   },
   "file_extension": ".py",
   "mimetype": "text/x-python",
   "name": "python",
   "nbconvert_exporter": "python",
   "pygments_lexer": "ipython3",
   "version": "3.5.2"
  }
 },
 "nbformat": 4,
 "nbformat_minor": 2
}
