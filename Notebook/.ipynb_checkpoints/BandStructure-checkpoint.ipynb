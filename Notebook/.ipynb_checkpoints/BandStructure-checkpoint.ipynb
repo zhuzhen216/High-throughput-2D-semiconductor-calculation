{
 "cells": [
  {
   "cell_type": "code",
   "execution_count": 38,
   "metadata": {
    "collapsed": true
   },
   "outputs": [],
   "source": [
    "def read_BS_vb_cb(BS_file_name,spin_polarized=False):\n",
    "    BS_file = open(BS_file_name,'r')\n",
    "    BS_cont = BS_file.readlines()\n",
    "    BS_file.close()\n",
    "    N_elec,N_kpoint,N_eig=list(map(int,BS_cont[5].strip().split()))\n",
    "    N_elec = N_elec//2\n",
    "    \n",
    "    group = N_eig + 2\n",
    "    kpoint_index = 1\n",
    "    vbm_index = N_elec + 1\n",
    "    cbm_index = N_elec + 2\n",
    "    ret = []\n",
    "    for i in range(N_kpoint):\n",
    "        kpoint = tuple(map(float,BS_cont[6+i*(N_eig+2)+kpoint_index].strip().split()[0:3]))\n",
    "        vbm = float(BS_cont[6+i*(N_eig+2)+vbm_index].strip().split()[1])\n",
    "        cbm = float(BS_cont[6+i*(N_eig+2)+cbm_index].strip().split()[1])\n",
    "        ret.append([kpoint,vbm,cbm])\n",
    "    #print(BS_cont[3].strip().split())\n",
    "    return ret"
   ]
  },
  {
   "cell_type": "code",
   "execution_count": 42,
   "metadata": {
    "collapsed": false
   },
   "outputs": [],
   "source": [
    "def obt_VBM_CBM(BS_file_name):\n",
    "    vb_cb = read_BS_vb_cb(BS_file_name)\n",
    "    return [sorted(vb_cb,key=lambda x:x[1])[-1],sorted(vb_cb,key=lambda x:x[2])[0]]"
   ]
  },
  {
   "cell_type": "code",
   "execution_count": 43,
   "metadata": {
    "collapsed": false
   },
   "outputs": [
    {
     "data": {
      "text/plain": [
       "[[(0.0, 0.0, 0.0), -4.842744, -2.498877],\n",
       " [(0.0, 0.3421053, 0.0), -5.235211, -2.537977]]"
      ]
     },
     "execution_count": 43,
     "metadata": {},
     "output_type": "execute_result"
    }
   ],
   "source": [
    "obt_VBM_CBM('EIGENVAL')"
   ]
  },
  {
   "cell_type": "code",
   "execution_count": 29,
   "metadata": {
    "collapsed": false
   },
   "outputs": [
    {
     "data": {
      "text/plain": [
       "(1.0, 2.0)"
      ]
     },
     "execution_count": 29,
     "metadata": {},
     "output_type": "execute_result"
    }
   ],
   "source": [
    "tuple(map(float,['1','2']))"
   ]
  },
  {
   "cell_type": "code",
   "execution_count": null,
   "metadata": {
    "collapsed": true
   },
   "outputs": [],
   "source": []
  }
 ],
 "metadata": {
  "anaconda-cloud": {},
  "kernelspec": {
   "display_name": "Python [conda root]",
   "language": "python",
   "name": "conda-root-py"
  },
  "language_info": {
   "codemirror_mode": {
    "name": "ipython",
    "version": 3
   },
   "file_extension": ".py",
   "mimetype": "text/x-python",
   "name": "python",
   "nbconvert_exporter": "python",
   "pygments_lexer": "ipython3",
   "version": "3.5.2"
  }
 },
 "nbformat": 4,
 "nbformat_minor": 2
}
