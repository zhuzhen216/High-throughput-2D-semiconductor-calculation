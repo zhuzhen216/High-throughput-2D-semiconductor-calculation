{
 "cells": [
  {
   "cell_type": "code",
   "execution_count": 2,
   "metadata": {
    "collapsed": true
   },
   "outputs": [],
   "source": [
    "import os\n",
    "import shutil"
   ]
  },
  {
   "cell_type": "code",
   "execution_count": 3,
   "metadata": {
    "collapsed": true
   },
   "outputs": [],
   "source": [
    "# file1 as CONTCAR\n",
    "# file2 as POSCAR\n",
    "# if CONTCAR is a complete file, it usually has longer (or equal)\n",
    "# length than POSCAR\n",
    "def compare_file_len(file1,file2):\n",
    "    f1 = open(file1,'r+')\n",
    "    f1_content = f1.readlines()\n",
    "    f2 = open(file2,'r+')\n",
    "    f2_content = f2.readlines()\n",
    "    if len(f1_content) >= len(f2_content):\n",
    "        return True\n",
    "    else:\n",
    "        return False"
   ]
  },
  {
   "cell_type": "code",
   "execution_count": 4,
   "metadata": {
    "collapsed": true
   },
   "outputs": [],
   "source": [
    "#\n",
    "# copy file1 to file2\n",
    "#"
   ]
  },
  {
   "cell_type": "code",
   "execution_count": 6,
   "metadata": {
    "collapsed": false
   },
   "outputs": [
    {
     "ename": "FileNotFoundError",
     "evalue": "[Errno 2] No such file or directory: '/work/03566/zhuzhen/project/2D_structure/A'",
     "output_type": "error",
     "traceback": [
      "\u001b[0;31m---------------------------------------------------------------------------\u001b[0m",
      "\u001b[0;31mFileNotFoundError\u001b[0m                         Traceback (most recent call last)",
      "\u001b[0;32m<ipython-input-6-b20f6b7b5f23>\u001b[0m in \u001b[0;36m<module>\u001b[0;34m()\u001b[0m\n\u001b[1;32m      4\u001b[0m \u001b[0;32mfor\u001b[0m \u001b[0mlev_one_name\u001b[0m \u001b[0;32min\u001b[0m \u001b[0mfolder_lev_one\u001b[0m\u001b[0;34m:\u001b[0m\u001b[0;34m\u001b[0m\u001b[0m\n\u001b[1;32m      5\u001b[0m     \u001b[0mpath_lev_one\u001b[0m \u001b[0;34m=\u001b[0m \u001b[0mos\u001b[0m\u001b[0;34m.\u001b[0m\u001b[0mpath\u001b[0m\u001b[0;34m.\u001b[0m\u001b[0mjoin\u001b[0m\u001b[0;34m(\u001b[0m\u001b[0mfolder_dir\u001b[0m\u001b[0;34m,\u001b[0m\u001b[0mlev_one_name\u001b[0m\u001b[0;34m)\u001b[0m\u001b[0;34m\u001b[0m\u001b[0m\n\u001b[0;32m----> 6\u001b[0;31m     \u001b[0mfolder_lev_two\u001b[0m \u001b[0;34m=\u001b[0m \u001b[0mlist\u001b[0m\u001b[0;34m(\u001b[0m\u001b[0mos\u001b[0m\u001b[0;34m.\u001b[0m\u001b[0mlistdir\u001b[0m\u001b[0;34m(\u001b[0m\u001b[0mpath_lev_one\u001b[0m\u001b[0;34m)\u001b[0m\u001b[0;34m)\u001b[0m\u001b[0;34m\u001b[0m\u001b[0m\n\u001b[0m\u001b[1;32m      7\u001b[0m     \u001b[0;32mfor\u001b[0m \u001b[0mlev_two_name\u001b[0m \u001b[0;32min\u001b[0m \u001b[0mfolder_lev_two\u001b[0m\u001b[0;34m:\u001b[0m\u001b[0;34m\u001b[0m\u001b[0m\n\u001b[1;32m      8\u001b[0m         \u001b[0msubmit_folder\u001b[0m \u001b[0;34m=\u001b[0m \u001b[0mos\u001b[0m\u001b[0;34m.\u001b[0m\u001b[0mpath\u001b[0m\u001b[0;34m.\u001b[0m\u001b[0mjoin\u001b[0m\u001b[0;34m(\u001b[0m\u001b[0mpath_lev_one\u001b[0m\u001b[0;34m,\u001b[0m\u001b[0mlev_two_name\u001b[0m\u001b[0;34m)\u001b[0m\u001b[0;34m\u001b[0m\u001b[0m\n",
      "\u001b[0;31mFileNotFoundError\u001b[0m: [Errno 2] No such file or directory: '/work/03566/zhuzhen/project/2D_structure/A'"
     ]
    }
   ],
   "source": [
    "folder_dir = '/work/03566/zhuzhen/project/2D_structure'\n",
    "#folder_lev_one = os.listdir(folder_dir)\n",
    "folder_lev_one = 'AlBr'\n",
    "for lev_one_name in folder_lev_one:\n",
    "    path_lev_one = os.path.join(folder_dir,lev_one_name)\n",
    "    folder_lev_two = list(os.listdir(path_lev_one))\n",
    "    for lev_two_name in folder_lev_two:\n",
    "        submit_folder = os.path.join(path_lev_one,lev_two_name)\n",
    "        if ('POSCAR' not in os.listdir(submit_folder)) and ('CONTCAR' not in os.listdir(submit_folder)):\n",
    "            print('POSCAR does not exist for %s'.format(lev_two_name))\n",
    "            break\n",
    "        if ('KPOINTS' not in os.listdir(submit_folder)):\n",
    "            print('KPOINTS does not exist for %s'.format(lev_two_name))\n",
    "            break\n",
    "        if ('POTCAR' not in os.listdir(submit_folder)):\n",
    "            print('POTCAR does not exist for %s'.format(lev_two_name))\n",
    "            break\n",
    "        if ('INCAR' not in os.listdir(submit_folder)):\n",
    "            print('INCAR does not exist for %s'.format(lev_two_name))\n",
    "            break\n",
    "        if 'submit.sh' not in os.listdir(submit_folder):\n",
    "            print('submit.sh does not exist for %s'.format(lev_two_name))\n",
    "            break\n",
    "        if 'CONTCAR' in os.listdir(submit_folder):\n",
    "            if compare_file_len(os.path.join(submit_folder,'CONTCAR'),os.path.join(submit_folder,'POSCAR')):\n",
    "                shutil.copy2(os.path.join(submit_folder,'CONTCAR'),os.path.join(submit_folder,'POSCAR'))\n",
    "        os.system('sbatch '+os.path.join(submit_folder,'submit.sh'))"
   ]
  },
  {
   "cell_type": "code",
   "execution_count": null,
   "metadata": {
    "collapsed": true
   },
   "outputs": [],
   "source": []
  }
 ],
 "metadata": {
  "anaconda-cloud": {},
  "kernelspec": {
   "display_name": "Python [conda root]",
   "language": "python",
   "name": "conda-root-py"
  },
  "language_info": {
   "codemirror_mode": {
    "name": "ipython",
    "version": 3
   },
   "file_extension": ".py",
   "mimetype": "text/x-python",
   "name": "python",
   "nbconvert_exporter": "python",
   "pygments_lexer": "ipython3",
   "version": "3.5.2"
  }
 },
 "nbformat": 4,
 "nbformat_minor": 2
}
