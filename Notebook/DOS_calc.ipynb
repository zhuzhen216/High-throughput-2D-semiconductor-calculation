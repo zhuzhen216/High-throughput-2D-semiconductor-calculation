{
 "cells": [
  {
   "cell_type": "code",
   "execution_count": 1,
   "metadata": {
    "collapsed": true
   },
   "outputs": [],
   "source": [
    "import os\n",
    "import shutil"
   ]
  },
  {
   "cell_type": "code",
   "execution_count": 10,
   "metadata": {
    "collapsed": true
   },
   "outputs": [],
   "source": [
    "# KPOINTS: 24 by 24 by 1\n",
    "# different INCAR file\n",
    "#\n",
    "# rules: first copy, then modify the files, then submit all the jobs"
   ]
  },
  {
   "cell_type": "code",
   "execution_count": 4,
   "metadata": {
    "collapsed": true
   },
   "outputs": [],
   "source": [
    "# modify INCAR file:\n",
    "# \"the path of submission folder + INCAR\" should be given as the input\n",
    "def modify_INCAR(submit_folder):\n",
    "    incar_open = open(submit_folder+'/INCAR','r+')\n",
    "    incar_cont = incar_open.readlines()\n",
    "    incar_cont[1]='ISMEAR = -5\\n'\n",
    "    incar_cont[3]='ICHARG=11\\n'\n",
    "    incar_cont[5]='IBRION=2; ISIF=2; NSW=0\\n'\n",
    "    incar_open.seek(0)\n",
    "    incar_open.truncate()\n",
    "    incar_open.write(''.join(incar_cont))\n",
    "    incar_open.close()"
   ]
  },
  {
   "cell_type": "code",
   "execution_count": 7,
   "metadata": {
    "collapsed": true
   },
   "outputs": [],
   "source": [
    "# copy CHGCAR or INCAR or POSCAR or KPOINT or submit file:\n",
    "# from_path: /path/CHGCAR\n",
    "# to_folder: the folder to do calculations\n",
    "def copy_FILE(from_path,to_folder):\n",
    "    shutil.copy2(from_path,to_folder)"
   ]
  },
  {
   "cell_type": "code",
   "execution_count": 8,
   "metadata": {
    "collapsed": true
   },
   "outputs": [],
   "source": [
    "def modify_submit(submit_folder):\n",
    "    f_submit = open(submit_folder+'/submit.sh','r+')\n",
    "    sub_cont = f_submit.readlines()\n",
    "    # for guild:\n",
    "    sub_cont[7]='cd '+submit_folder+'\\n'\n",
    "    # for stampede:\n",
    "    #sub_cont[-2]='cd '+lev_three_path+'/static'+'\\n'\n",
    "    f_submit.seek(0)\n",
    "    f_submit.truncate()\n",
    "    f_submit.write(''.join(sub_cont))\n",
    "    f_submit.close()"
   ]
  },
  {
   "cell_type": "code",
   "execution_count": 1,
   "metadata": {
    "collapsed": true
   },
   "outputs": [],
   "source": [
    "def modify_KPOINTS(submit_folder):\n",
    "    k_grid = '24 24 1'\n",
    "    kpoints_open = open(submit_folder+'/KPOINTS','r+')\n",
    "    kpoints_cont = kpoints_open.readlines()\n",
    "    kpoints_cont[3]=k_grid+'\\n'\n",
    "    kpoints_open.seek(0)\n",
    "    kpoints_open.truncate()\n",
    "    kpoints_open.write(''.join(kpoints_cont))\n",
    "    kpoints_open.close()"
   ]
  },
  {
   "cell_type": "code",
   "execution_count": 12,
   "metadata": {
    "collapsed": true
   },
   "outputs": [],
   "source": [
    "def file_empty(file):\n",
    "    file_open=open(file,'r')\n",
    "    file_cont=file_open.readlines()\n",
    "    if len(file_cont)<5:\n",
    "        return True\n",
    "    else:\n",
    "        return False"
   ]
  },
  {
   "cell_type": "code",
   "execution_count": 9,
   "metadata": {
    "collapsed": true
   },
   "outputs": [],
   "source": [
    "#\n",
    "# the home folder to conduct all the calculations\n",
    "#\n",
    "folder_dir = '/home/zhuzhen/2D_structure'"
   ]
  },
  {
   "cell_type": "code",
   "execution_count": 13,
   "metadata": {
    "collapsed": false
   },
   "outputs": [
    {
     "ename": "FileNotFoundError",
     "evalue": "[Errno 2] No such file or directory: '/home/zhuzhen/2D_structure'",
     "output_type": "error",
     "traceback": [
      "\u001b[0;31m---------------------------------------------------------------------------\u001b[0m",
      "\u001b[0;31mFileNotFoundError\u001b[0m                         Traceback (most recent call last)",
      "\u001b[0;32m<ipython-input-13-227e7aab2db3>\u001b[0m in \u001b[0;36m<module>\u001b[0;34m()\u001b[0m\n\u001b[1;32m      1\u001b[0m \u001b[0;31m# DOS_path is the submission folder\u001b[0m\u001b[0;34m\u001b[0m\u001b[0;34m\u001b[0m\u001b[0m\n\u001b[0;32m----> 2\u001b[0;31m \u001b[0mfolder_lev_one\u001b[0m \u001b[0;34m=\u001b[0m \u001b[0mos\u001b[0m\u001b[0;34m.\u001b[0m\u001b[0mlistdir\u001b[0m\u001b[0;34m(\u001b[0m\u001b[0mfolder_dir\u001b[0m\u001b[0;34m)\u001b[0m\u001b[0;34m\u001b[0m\u001b[0m\n\u001b[0m\u001b[1;32m      3\u001b[0m \u001b[0;32mfor\u001b[0m \u001b[0mlev_one_name\u001b[0m \u001b[0;32min\u001b[0m \u001b[0mfolder_lev_one\u001b[0m\u001b[0;34m:\u001b[0m\u001b[0;34m\u001b[0m\u001b[0m\n\u001b[1;32m      4\u001b[0m     \u001b[0mlev_two_path\u001b[0m\u001b[0;34m=\u001b[0m\u001b[0mos\u001b[0m\u001b[0;34m.\u001b[0m\u001b[0mpath\u001b[0m\u001b[0;34m.\u001b[0m\u001b[0mjoin\u001b[0m\u001b[0;34m(\u001b[0m\u001b[0mfolder_dir\u001b[0m\u001b[0;34m,\u001b[0m\u001b[0mlev_one_name\u001b[0m\u001b[0;34m)\u001b[0m\u001b[0;34m\u001b[0m\u001b[0m\n\u001b[1;32m      5\u001b[0m     \u001b[0mfolder_lev_two\u001b[0m \u001b[0;34m=\u001b[0m \u001b[0mos\u001b[0m\u001b[0;34m.\u001b[0m\u001b[0mlistdir\u001b[0m\u001b[0;34m(\u001b[0m\u001b[0mlev_two_path\u001b[0m\u001b[0;34m)\u001b[0m\u001b[0;34m\u001b[0m\u001b[0m\n",
      "\u001b[0;31mFileNotFoundError\u001b[0m: [Errno 2] No such file or directory: '/home/zhuzhen/2D_structure'"
     ]
    }
   ],
   "source": [
    "# DOS_path is the submission folder\n",
    "folder_lev_one = os.listdir(folder_dir)\n",
    "for lev_one_name in folder_lev_one:\n",
    "    lev_two_path=os.path.join(folder_dir,lev_one_name)\n",
    "    folder_lev_two = os.listdir(lev_two_path)\n",
    "    for lev_two_name in folder_lev_two:\n",
    "        lev_three_path = os.path.join(lev_two_path,lev_two_name)\n",
    "        if 'static' not in os.listdir(lev_three_path):\n",
    "            print('Static calculation first for %s!'.format(lev_two_name))\n",
    "            break\n",
    "        # create folder for DOS calculation under 'static' folder\n",
    "        static_path = lev_three_path+'/static'\n",
    "        DOS_path = static_path+'/DOS'\n",
    "        os.mkdir(DOS_path)\n",
    "        #\n",
    "        # copy INCAR file\n",
    "        #\n",
    "        copy_FILE(static_path+'/INCAR',DOS_path)\n",
    "        modify_INCAR(DOS_path)\n",
    "        #\n",
    "        # copy POTCAR file\n",
    "        #\n",
    "        copy_FILE(static_path+'/POTCAR',DOS_path)\n",
    "        #\n",
    "        # copy KPOINTS file\n",
    "        #\n",
    "        copy_FILE(static_path+'/KPOINTS',DOS_path)\n",
    "        modify_KPOINTS(DOS_path)\n",
    "        #\n",
    "        # cp CONTCAR file to POSCAR file\n",
    "        #\n",
    "        if file_empty(static_path+'/CONTCAR'):\n",
    "            print('Static calculation not performed correctly for %s!'.format(lev_two_name))\n",
    "            break\n",
    "        copy_FILE(static_path+'/CONTCAR',DOS_path+'/POSCAR')\n",
    "        #\n",
    "        # copy submit.sh\n",
    "        #\n",
    "        copy_FILE(static_path+'/submit.sh',DOS_path)\n",
    "        modify_submit(DOS_path)\n",
    "        #\n",
    "        # copy CHGCAR file\n",
    "        #\n",
    "        copy_FILE(static_path+'/CHGCAR',DOS_path)\n",
    "        os.system('qsub '+DOS_path+'/submit.sh')"
   ]
  },
  {
   "cell_type": "code",
   "execution_count": null,
   "metadata": {
    "collapsed": true
   },
   "outputs": [],
   "source": []
  }
 ],
 "metadata": {
  "anaconda-cloud": {},
  "kernelspec": {
   "display_name": "Python [conda root]",
   "language": "python",
   "name": "conda-root-py"
  },
  "language_info": {
   "codemirror_mode": {
    "name": "ipython",
    "version": 3
   },
   "file_extension": ".py",
   "mimetype": "text/x-python",
   "name": "python",
   "nbconvert_exporter": "python",
   "pygments_lexer": "ipython3",
   "version": "3.5.2"
  }
 },
 "nbformat": 4,
 "nbformat_minor": 2
}
