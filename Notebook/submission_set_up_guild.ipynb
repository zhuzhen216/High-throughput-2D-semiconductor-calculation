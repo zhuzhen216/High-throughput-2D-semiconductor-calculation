{
 "cells": [
  {
   "cell_type": "markdown",
   "metadata": {},
   "source": [
    "___\n",
    "This script is to setup the submission file for the high_throughput calculations.\n",
    "___"
   ]
  },
  {
   "cell_type": "code",
   "execution_count": 1,
   "metadata": {
    "collapsed": true
   },
   "outputs": [],
   "source": [
    "import os\n",
    "import shutil\n",
    "import numpy"
   ]
  },
  {
   "cell_type": "code",
   "execution_count": 7,
   "metadata": {
    "collapsed": true
   },
   "outputs": [],
   "source": [
    "current_dir = os.getcwd()\n",
    "#\n",
    "# folder_dir is your folder to store all your calculations\n",
    "#\n",
    "folder_dir = '/Users/zhenzhu/Project/calculcation/IV-VI/lots_of_struc'"
   ]
  },
  {
   "cell_type": "code",
   "execution_count": 1,
   "metadata": {
    "collapsed": true
   },
   "outputs": [],
   "source": [
    "# set up submit.sh file\n",
    "submit_file=open('submit.sh','w')\n",
    "submit_file.writelines('#!/bin/bash'+'\\n')\n",
    "submit_file.writelines('# stampede.tacc.utexas.edu: PWD'+'\\n')\n",
    "submit_file.writelines('#PBS -N job'+'\\n')\n",
    "submit_file.writelines('#PBS -l nodes=1:ppn=8'+'\\n')\n",
    "submit_file.writelines('#PBS -l walltime=48:00:00'+'\\n')\n",
    "submit_file.writelines('#PBS -j oe'+'\\n')\n",
    "submit_file.writelines('#PBS -V'+'\\n')\n",
    "submit_file.writelines('cd $PBS_O_WORKDIR'+'\\n')\n",
    "submit_file.writelines('source /usr/local/intel/composer_xe_2013.5.192/bin/compilervars.sh intel64'+'\\n')\n",
    "submit_file.writelines('source /usr/local/intel/composer_xe_2013.5.192/mkl/bin/mklvars.sh intel64'+'\\n')\n",
    "submit_file.writelines('export PATH=/usr/local/openmpi-1.6.4/bin:$PATH'+'\\n')\n",
    "submit_file.writelines('export LD_LIBRARY_PATH=/usr/local/openmpi-1.6.4/lib:$LD_LIBRARY_PATH'+'\\n')\n",
    "submit_file.writelines('ulimit -s unlimited'+'\\n')\n",
    "submit_file.writelines('/usr/local/openmpi-1.6.4/bin/mpirun -np 8 -machinefile $PBS_NODEFILE /home/vandewalle/codes/guild/VASP/vasp.541_p3.guild')\n",
    "submit_file.close()"
   ]
  },
  {
   "cell_type": "code",
   "execution_count": 15,
   "metadata": {
    "collapsed": false
   },
   "outputs": [],
   "source": [
    "# copy the submit.sh file to each foler\n",
    "# also, change the \"cd $PBS_O_WORKDIR\" to \"cd folder_name\"\n",
    "# this is very important.\n",
    "#\n",
    "folder_lev_one = os.listdir(folder_dir)\n",
    "for lev_one_name in folder_lev_one:\n",
    "    lev_two_path=os.path.join(folder_dir,lev_one_name)\n",
    "    folder_lev_two = os.listdir(lev_two_path)\n",
    "    for lev_two_name in folder_lev_two:\n",
    "        to_folder = os.path.join(lev_two_path,lev_two_name)\n",
    "        shutil.copy2(os.path.join(current_dir,'submit.sh'), to_folder)\n",
    "        submit_file=open(os.path.join(to_folder,'submit.sh'),'r+')\n",
    "        f_content = submit_file.readlines()\n",
    "        #print(f_content)\n",
    "        #change = '#SBATCH -J '+lev_two_name+'\\n'\n",
    "        f_content[2]= '#PBS -N '+lev_two_name+'\\n'\n",
    "        f_content[7]='cd '+to_folder+'\\n'\n",
    "        submit_file.seek(0)\n",
    "        submit_file.truncate()\n",
    "        submit_file.write(''.join(f_content))\n",
    "        submit_file.close()"
   ]
  },
  {
   "cell_type": "code",
   "execution_count": null,
   "metadata": {
    "collapsed": true
   },
   "outputs": [],
   "source": []
  }
 ],
 "metadata": {
  "anaconda-cloud": {},
  "kernelspec": {
   "display_name": "Python [conda root]",
   "language": "python",
   "name": "conda-root-py"
  },
  "language_info": {
   "codemirror_mode": {
    "name": "ipython",
    "version": 3
   },
   "file_extension": ".py",
   "mimetype": "text/x-python",
   "name": "python",
   "nbconvert_exporter": "python",
   "pygments_lexer": "ipython3",
   "version": "3.5.2"
  }
 },
 "nbformat": 4,
 "nbformat_minor": 2
}
