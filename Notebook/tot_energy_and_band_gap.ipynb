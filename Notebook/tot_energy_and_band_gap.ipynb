{
 "cells": [
  {
   "cell_type": "code",
   "execution_count": 2,
   "metadata": {
    "collapsed": true
   },
   "outputs": [],
   "source": [
    "#\n",
    "# data analysis: total energy\n",
    "#"
   ]
  },
  {
   "cell_type": "code",
   "execution_count": 69,
   "metadata": {
    "collapsed": true
   },
   "outputs": [],
   "source": [
    "import os\n",
    "import numpy as np\n",
    "import shutil"
   ]
  },
  {
   "cell_type": "code",
   "execution_count": 70,
   "metadata": {
    "collapsed": false
   },
   "outputs": [],
   "source": [
    "# return total energy\n",
    "# the format of the last line of OSZICAR is:\n",
    "# 3 F= -.10192617E+02 E0= -.10192615E+02  d E =-.224873E-03\n",
    "# ['3','F=','-.10192617E+02','E0=','-.10192615E+02','d','E', '=-.224873E-03']\n",
    "# return -.101926E+02 (10.1926)\n",
    "#\n",
    "# this function can be called after checking whether it is a finished job or not\n",
    "#\n",
    "def obt_TotEnergy(oszicar_file):\n",
    "    oszicar = open(oszicar_file,'r')\n",
    "    oszicar_cont = oszicar.readlines()\n",
    "    oszicar.close()\n",
    "    return float(oszicar_cont[-1].split()[4])\n",
    "#read_OSZICAR('OSZICAR')"
   ]
  },
  {
   "cell_type": "code",
   "execution_count": 77,
   "metadata": {
    "collapsed": true
   },
   "outputs": [],
   "source": [
    "def obt_NumOfAtoms(poscar_file):\n",
    "    poscar = open(poscar_file,'r')\n",
    "    poscar_cont = poscar.readlines()\n",
    "    poscar.close()\n",
    "    num_of_atom=poscar_cont[6].split()\n",
    "    if len(num_of_atom)==1:\n",
    "        return int(num_of_atom[0])\n",
    "    else:\n",
    "        return sum([int(char) for char in num_of_atom])"
   ]
  },
  {
   "cell_type": "code",
   "execution_count": 78,
   "metadata": {
    "collapsed": true
   },
   "outputs": [],
   "source": [
    "#\n",
    "# calculate energy per atom for a cerntain system\n",
    "#\n",
    "def energy_per_atom(oszicar_file,poscar_file):\n",
    "    return obt_TotEnergy(oszicar_file)/obt_NumOfAtoms(poscar_file)"
   ]
  },
  {
   "cell_type": "code",
   "execution_count": 73,
   "metadata": {
    "collapsed": false
   },
   "outputs": [],
   "source": [
    "#num_of_atom=['2','2']\n",
    "#sum([int(char) for char in num_of_atom])"
   ]
  },
  {
   "cell_type": "code",
   "execution_count": 83,
   "metadata": {
    "collapsed": false
   },
   "outputs": [],
   "source": [
    "# return band gap from DOSCAR\n",
    "#\n",
    "# The idea is first get Fermi level from vasp\n",
    "#\n",
    "# this script can obtain Fermi level\n",
    "def read_FermiLev(vasprun_xml):\n",
    "    vasprun_out = open(vasprun_xml,'r')\n",
    "    for line in vasprun_out:\n",
    "        if 'efermi' in line:\n",
    "            return float(line.split()[2])\n",
    "            break\n",
    "    vasprun_out.close()\n",
    "\n",
    "def read_dos(doscar,fermi_level):\n",
    "    doscar_out = open(doscar,'r')\n",
    "    count = 0\n",
    "    small_number = 0.000001\n",
    "    gap_value = 0.\n",
    "    VBM = fermi_level\n",
    "    CBM = fermi_level\n",
    "    conti_zero = []\n",
    "    for line in doscar_out:\n",
    "        count =  count + 1\n",
    "        if count > 6:\n",
    "            val_list = [float(line.split()[i]) for i in range(3)]\n",
    "            #print(val_list)\n",
    "            if val_list[1]<small_number:\n",
    "                conti_zero.append(val_list[0])\n",
    "                #print(val_list)\n",
    "                #break\n",
    "            else:\n",
    "                if len(conti_zero)>=2 and conti_zero[0]-fermi_level<=0.01 and conti_zero[-1]>fermi_level:\n",
    "                    gap_value = (conti_zero[-1]-conti_zero[0])/len(conti_zero)*(len(conti_zero)+1)\n",
    "                    #print(conti_zero)\n",
    "                    break\n",
    "                #elif conti_zero[0]>fermi_level:\n",
    "                #    break\n",
    "                else:\n",
    "                    conti_zero=[]\n",
    "    doscar_out.close()\n",
    "    return gap_value   \n",
    "#print(read_vasprun('vasprun.xml'))\n",
    "#read_dos('DOSCAR',read_vasprun('vasprun.xml'))"
   ]
  },
  {
   "cell_type": "code",
   "execution_count": 84,
   "metadata": {
    "collapsed": true
   },
   "outputs": [],
   "source": [
    "#band_gap = {}\n",
    "#total_energy = {}\n",
    "band_gap = open('band_gap.dat','w')\n",
    "tot_energy = open('energy.dat','w')"
   ]
  },
  {
   "cell_type": "code",
   "execution_count": 85,
   "metadata": {
    "collapsed": false
   },
   "outputs": [],
   "source": [
    "# loop over all the folders to get the band gap values:\n",
    "#\n",
    "folder_dir = '/Users/zhenzhu/GitHub/POSCAR_generation/test_gap_value'\n",
    "\n",
    "folder_lev_one = os.listdir(folder_dir)\n",
    "for lev_one_name in folder_lev_one:\n",
    "    lev_two_path=os.path.join(folder_dir,lev_one_name)\n",
    "    folder_lev_two = os.listdir(lev_two_path)\n",
    "    for lev_two_name in folder_lev_two:\n",
    "        lev_three_path = os.path.join(lev_two_path,lev_two_name)\n",
    "        DOS_path = lev_three_path + '/static/DOS'\n",
    "        # read Fermi level and obtain gap value\n",
    "        fermi_level = read_FermiLev(DOS_path+'/vasprun.xml')\n",
    "        gap_value = read_dos(DOS_path+'/DOSCAR',fermi_level)\n",
    "        # obtain total energy\n",
    "        energy = energy_per_atom(DOS_path+'/OSZICAR',DOS_path+'/POSCAR')\n",
    "        #band_gap[lev_two_name]=gap_value\n",
    "        #total_energy[lev_two_name]=energy\n",
    "        band_gap.writelines(lev_one_name+' '+lev_two_name+' '+str(gap_value)+'\\n')\n",
    "        tot_energy.writelines(lev_one_name+' '+lev_two_name+' '+str(energy)+'\\n')\n",
    "band_gap.close()\n",
    "tot_energy.close()"
   ]
  },
  {
   "cell_type": "code",
   "execution_count": null,
   "metadata": {
    "collapsed": true
   },
   "outputs": [],
   "source": []
  }
 ],
 "metadata": {
  "kernelspec": {
   "display_name": "Python [conda root]",
   "language": "python",
   "name": "conda-root-py"
  },
  "language_info": {
   "codemirror_mode": {
    "name": "ipython",
    "version": 3
   },
   "file_extension": ".py",
   "mimetype": "text/x-python",
   "name": "python",
   "nbconvert_exporter": "python",
   "pygments_lexer": "ipython3",
   "version": "3.5.2"
  }
 },
 "nbformat": 4,
 "nbformat_minor": 2
}
