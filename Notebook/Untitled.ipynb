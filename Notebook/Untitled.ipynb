{
 "cells": [
  {
   "cell_type": "code",
   "execution_count": 1,
   "metadata": {
    "collapsed": true
   },
   "outputs": [],
   "source": [
    "import atomic_info"
   ]
  },
  {
   "cell_type": "code",
   "execution_count": 3,
   "metadata": {
    "collapsed": false
   },
   "outputs": [
    {
     "data": {
      "text/plain": [
       "{'AlBr': ['AlBr_0', 'AlBr_1', 'AlBr_2'],\n",
       " 'AlCl': ['AlCl_0', 'AlCl_1', 'AlCl_2'],\n",
       " 'AlF': ['AlF_0', 'AlF_1', 'AlF_2'],\n",
       " 'AlI': ['AlI_0', 'AlI_1', 'AlI_2'],\n",
       " 'As': ['As_0', 'As_1', 'As_2'],\n",
       " 'BBr': ['BBr_0', 'BBr_1', 'BBr_2'],\n",
       " 'BCl': ['BCl_0', 'BCl_1', 'BCl_2'],\n",
       " 'BF': ['BF_0', 'BF_1', 'BF_2'],\n",
       " 'BI': ['BI_0', 'BI_1', 'BI_2'],\n",
       " 'Bis': ['Bis_0', 'Bis_1', 'Bis_2'],\n",
       " 'CO': ['CO_0', 'CO_1', 'CO_2'],\n",
       " 'CS': ['CS_0', 'CS_1', 'CS_2'],\n",
       " 'CSe': ['CSe_0', 'CSe_1', 'CSe_2'],\n",
       " 'CTe': ['CTe_0', 'CTe_1', 'CTe_2'],\n",
       " 'GaBr': ['GaBr_0', 'GaBr_1', 'GaBr_2'],\n",
       " 'GaCl': ['GaCl_0', 'GaCl_1', 'GaCl_2'],\n",
       " 'GaF': ['GaF_0', 'GaF_1', 'GaF_2'],\n",
       " 'GaI': ['GaI_0', 'GaI_1', 'GaI_2'],\n",
       " 'GeO': ['GeO_0', 'GeO_1', 'GeO_2'],\n",
       " 'GeS': ['GeS_0', 'GeS_1', 'GeS_2'],\n",
       " 'GeSe': ['GeSe_0', 'GeSe_1', 'GeSe_2'],\n",
       " 'GeTe': ['GeTe_0', 'GeTe_1', 'GeTe_2'],\n",
       " 'InBr': ['InBr_0', 'InBr_1', 'InBr_2'],\n",
       " 'InCl': ['InCl_0', 'InCl_1', 'InCl_2'],\n",
       " 'InF': ['InF_0', 'InF_1', 'InF_2'],\n",
       " 'InI': ['InI_0', 'InI_1', 'InI_2'],\n",
       " 'N': ['N_0', 'N_1', 'N_2'],\n",
       " 'P': ['P_0', 'P_1', 'P_2'],\n",
       " 'PbO': ['PbO_0', 'PbO_1', 'PbO_2'],\n",
       " 'PbS': ['PbS_0', 'PbS_1', 'PbS_2'],\n",
       " 'PbSe': ['PbSe_0', 'PbSe_1', 'PbSe_2'],\n",
       " 'PbTe': ['PbTe_0', 'PbTe_1', 'PbTe_2'],\n",
       " 'Sb': ['Sb_0', 'Sb_1', 'Sb_2'],\n",
       " 'SiO': ['SiO_0', 'SiO_1', 'SiO_2'],\n",
       " 'SiS': ['SiS_0', 'SiS_1', 'SiS_2'],\n",
       " 'SiSe': ['SiSe_0', 'SiSe_1', 'SiSe_2'],\n",
       " 'SiTe': ['SiTe_0', 'SiTe_1', 'SiTe_2'],\n",
       " 'SnO': ['SnO_0', 'SnO_1', 'SnO_2'],\n",
       " 'SnS': ['SnS_0', 'SnS_1', 'SnS_2'],\n",
       " 'SnSe': ['SnSe_0', 'SnSe_1', 'SnSe_2'],\n",
       " 'SnTe': ['SnTe_0', 'SnTe_1', 'SnTe_2']}"
      ]
     },
     "execution_count": 3,
     "metadata": {},
     "output_type": "execute_result"
    }
   ],
   "source": [
    "atomic_info.compound_phase"
   ]
  },
  {
   "cell_type": "code",
   "execution_count": null,
   "metadata": {
    "collapsed": true
   },
   "outputs": [],
   "source": []
  }
 ],
 "metadata": {
  "anaconda-cloud": {},
  "kernelspec": {
   "display_name": "Python [conda root]",
   "language": "python",
   "name": "conda-root-py"
  },
  "language_info": {
   "codemirror_mode": {
    "name": "ipython",
    "version": 3
   },
   "file_extension": ".py",
   "mimetype": "text/x-python",
   "name": "python",
   "nbconvert_exporter": "python",
   "pygments_lexer": "ipython3",
   "version": "3.5.2"
  }
 },
 "nbformat": 4,
 "nbformat_minor": 2
}
