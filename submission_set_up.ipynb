{
 "cells": [
  {
   "cell_type": "markdown",
   "metadata": {},
   "source": [
    "___\n",
    "This script is to setup the submission file for the high_throughput calculations.\n",
    "___"
   ]
  },
  {
   "cell_type": "code",
   "execution_count": 1,
   "metadata": {
    "collapsed": true
   },
   "outputs": [],
   "source": [
    "import os\n",
    "import shutil\n",
    "import numpy"
   ]
  },
  {
   "cell_type": "code",
   "execution_count": 7,
   "metadata": {
    "collapsed": true
   },
   "outputs": [],
   "source": [
    "current_dir = os.getcwd()\n",
    "#\n",
    "# folder_dir is your folder to store all your calculations\n",
    "#\n",
    "folder_dir = '/Users/zhenzhu/Project/calculcation/IV-VI/lots_of_struc'"
   ]
  },
  {
   "cell_type": "code",
   "execution_count": 12,
   "metadata": {
    "collapsed": true
   },
   "outputs": [],
   "source": [
    "# set up submit.sh file\n",
    "submit_file=open('submit.sh','w')\n",
    "submit_file.writelines('#!/bin/bash'+'\\n')\n",
    "submit_file.writelines('# stampede.tacc.utexas.edu: PWD'+'\\n')\n",
    "submit_file.writelines('#SBATCH -J job'+'\\n')\n",
    "submit_file.writelines('#SBATCH -o job.o%j'+'\\n')\n",
    "submit_file.writelines('#SBATCH -p normal'+'\\n')\n",
    "submit_file.writelines('#SBATCH -n 16'+'\\n')\n",
    "submit_file.writelines('#SBATCH -t 24:00:00'+'\\n')\n",
    "submit_file.writelines('#SBATCH --mail-user=zhen_zhu@126.com'+'\\n')\n",
    "submit_file.writelines('#SBATCH -A TG-DMR070072N'+'\\n')\n",
    "submit_file.writelines('module swap intel intel/14.0.1.106'+'\\n')\n",
    "submit_file.writelines('module swap mvapich2 impi/4.1.3.049'+'\\n')\n",
    "submit_file.writelines('cd $SLURM_SUBMIT_DIR'+'\\n')\n",
    "submit_file.writelines('ibrun $HOME/bin/vasp.541_p3.stampede'+'\\n')\n",
    "submit_file.close()"
   ]
  },
  {
   "cell_type": "code",
   "execution_count": 15,
   "metadata": {
    "collapsed": false
   },
   "outputs": [],
   "source": [
    "# copy the submit.sh file to each foler\n",
    "folder_lev_one = os.listdir(folder_dir)\n",
    "for lev_one_name in folder_lev_one:\n",
    "    lev_two_path=os.path.join(folder_dir,lev_one_name)\n",
    "    folder_lev_two = os.listdir(lev_two_path)\n",
    "    for lev_two_name in folder_lev_two:\n",
    "        to_folder = os.path.join(lev_two_path,lev_two_name)\n",
    "        shutil.copy2(os.path.join(current_dir,'submit.sh'), to_folder)\n",
    "        submit_file=open(os.path.join(to_folder,'submit.sh'),'r+')\n",
    "        f_content = submit_file.readlines()\n",
    "        #print(f_content)\n",
    "        #change = '#SBATCH -J '+lev_two_name+'\\n'\n",
    "        f_content[2]= '#SBATCH -J '+lev_two_name+'\\n'\n",
    "        submit_file.seek(0)\n",
    "        submit_file.truncate()\n",
    "        submit_file.write(''.join(f_content))\n",
    "        submit_file.close()"
   ]
  },
  {
   "cell_type": "code",
   "execution_count": null,
   "metadata": {
    "collapsed": true
   },
   "outputs": [],
   "source": []
  }
 ],
 "metadata": {
  "anaconda-cloud": {},
  "kernelspec": {
   "display_name": "Python [conda root]",
   "language": "python",
   "name": "conda-root-py"
  },
  "language_info": {
   "codemirror_mode": {
    "name": "ipython",
    "version": 3
   },
   "file_extension": ".py",
   "mimetype": "text/x-python",
   "name": "python",
   "nbconvert_exporter": "python",
   "pygments_lexer": "ipython3",
   "version": "3.5.2"
  }
 },
 "nbformat": 4,
 "nbformat_minor": 2
}
