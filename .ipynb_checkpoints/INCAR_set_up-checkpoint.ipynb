{
 "cells": [
  {
   "cell_type": "code",
   "execution_count": 1,
   "metadata": {
    "collapsed": true
   },
   "outputs": [],
   "source": [
    "import os\n",
    "import shutil\n",
    "import numpy as np"
   ]
  },
  {
   "cell_type": "code",
   "execution_count": 2,
   "metadata": {
    "collapsed": true
   },
   "outputs": [],
   "source": [
    "current_dir = os.getcwd()\n",
    "folder_dir = '/Users/zhenzhu/Project/calculcation/IV-VI/lots_of_struc'"
   ]
  },
  {
   "cell_type": "code",
   "execution_count": 6,
   "metadata": {
    "collapsed": false
   },
   "outputs": [],
   "source": [
    "#\n",
    "# INCAR file as following\n",
    "#\n",
    "#System = blackp\n",
    "#ISMEAR = 0\n",
    "#SIGMA = 0.1;\n",
    "#ENCUT = 500\n",
    "#IBRION=2; ISIF=3 ; NSW=100\n",
    "#NELM = 200\n",
    "#EDIFF  = 0.1E-05\n",
    "#EDIFFG = -0.01\n",
    "def set_INCAR():\n",
    "    filename = 'INCAR'\n",
    "    f_incar = open(filename,'w')\n",
    "    f_incar.writelines('System = 2D Structure'+'\\n')\n",
    "    f_incar.writelines('ISMEAR = 0'+'\\n')\n",
    "    f_incar.writelines('SIGMA = 0.1'+'\\n')\n",
    "    f_incar.writelines('ENCUT = 500'+'\\n')\n",
    "    f_incar.writelines('IBRION=2; ISIF=3; NSW=100'+'\\n')\n",
    "    f_incar.writelines('EDIFF  = 0.1E-05'+'\\n')\n",
    "    f_incar.writelines('EDIFFG = -0.01')\n",
    "    f_incar.close()\n",
    "set_INCAR()"
   ]
  },
  {
   "cell_type": "code",
   "execution_count": 7,
   "metadata": {
    "collapsed": true
   },
   "outputs": [],
   "source": [
    "folder_lev_one = os.listdir(folder_dir)\n",
    "for lev_one_name in folder_lev_one:\n",
    "    lev_two_path=os.path.join(folder_dir,lev_one_name)\n",
    "    folder_lev_two = os.listdir(lev_two_path)\n",
    "    for lev_two_name in folder_lev_two:\n",
    "        shutil.copy2(os.path.join(current_dir,'INCAR'),os.path.join(lev_two_path,lev_two_name))"
   ]
  }
 ],
 "metadata": {
  "kernelspec": {
   "display_name": "Python [conda root]",
   "language": "python",
   "name": "conda-root-py"
  },
  "language_info": {
   "codemirror_mode": {
    "name": "ipython",
    "version": 3
   },
   "file_extension": ".py",
   "mimetype": "text/x-python",
   "name": "python",
   "nbconvert_exporter": "python",
   "pygments_lexer": "ipython3",
   "version": "3.5.2"
  }
 },
 "nbformat": 4,
 "nbformat_minor": 2
}
