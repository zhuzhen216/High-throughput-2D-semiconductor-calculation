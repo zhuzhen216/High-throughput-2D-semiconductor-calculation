{
 "cells": [
  {
   "cell_type": "code",
   "execution_count": 2,
   "metadata": {
    "collapsed": true
   },
   "outputs": [],
   "source": [
    "import os\n",
    "import shutil\n",
    "import atomic_info"
   ]
  },
  {
   "cell_type": "code",
   "execution_count": 3,
   "metadata": {
    "collapsed": true
   },
   "outputs": [],
   "source": [
    "def oszicar_not_complete(file):\n",
    "    file_open=open(file,'r')\n",
    "    file_cont=file_open.readlines()\n",
    "    if len(file_cont)<5:\n",
    "        return True\n",
    "    if 'F=' not in file_cont[-1].split():\n",
    "        return True\n",
    "    else:\n",
    "        return False"
   ]
  },
  {
   "cell_type": "code",
   "execution_count": 1,
   "metadata": {
    "collapsed": true
   },
   "outputs": [],
   "source": [
    "def dan_empty(file):\n",
    "    file_open=open(file,'r')\n",
    "    file_cont=file_open.readlines()\n",
    "    if len(file_cont)<5:\n",
    "        return True\n",
    "    else:\n",
    "        return False"
   ]
  },
  {
   "cell_type": "code",
   "execution_count": 4,
   "metadata": {
    "collapsed": false
   },
   "outputs": [
    {
     "data": {
      "text/plain": [
       "['Bi']"
      ]
     },
     "execution_count": 4,
     "metadata": {},
     "output_type": "execute_result"
    }
   ],
   "source": [
    "folder_dir = '/home/zhuzhen/2D_structure'\n",
    "util_path = '/home/zhuzhen/util'\n",
    "macroave_path = util_path + '/macroave'\n",
    "#vasp2abi_path = util_path + '/locpot_vasp2abinit_z'\n",
    "macroave_in_path = util_path + '/macroave.in'\n",
    "#lev_two_name='a'\n",
    "#print('Alignment calculation not successful for {}'.format(lev_two_name))\n",
    "#atomic_info.count_elem('Bi')"
   ]
  },
  {
   "cell_type": "code",
   "execution_count": 5,
   "metadata": {
    "collapsed": false
   },
   "outputs": [
    {
     "ename": "FileNotFoundError",
     "evalue": "[Errno 2] No such file or directory: '/home/zhuzhen/2D_structure'",
     "output_type": "error",
     "traceback": [
      "\u001b[0;31m---------------------------------------------------------------------------\u001b[0m",
      "\u001b[0;31mFileNotFoundError\u001b[0m                         Traceback (most recent call last)",
      "\u001b[0;32m<ipython-input-5-54f298751fd6>\u001b[0m in \u001b[0;36m<module>\u001b[0;34m()\u001b[0m\n\u001b[0;32m----> 1\u001b[0;31m \u001b[0mfolder_lev_one\u001b[0m \u001b[0;34m=\u001b[0m \u001b[0mos\u001b[0m\u001b[0;34m.\u001b[0m\u001b[0mlistdir\u001b[0m\u001b[0;34m(\u001b[0m\u001b[0mfolder_dir\u001b[0m\u001b[0;34m)\u001b[0m\u001b[0;34m\u001b[0m\u001b[0m\n\u001b[0m\u001b[1;32m      2\u001b[0m \u001b[0;32mfor\u001b[0m \u001b[0mlev_one_name\u001b[0m \u001b[0;32min\u001b[0m \u001b[0mfolder_lev_one\u001b[0m\u001b[0;34m:\u001b[0m\u001b[0;34m\u001b[0m\u001b[0m\n\u001b[1;32m      3\u001b[0m     \u001b[0mlev_two_path\u001b[0m \u001b[0;34m=\u001b[0m \u001b[0mos\u001b[0m\u001b[0;34m.\u001b[0m\u001b[0mpath\u001b[0m\u001b[0;34m.\u001b[0m\u001b[0mjoin\u001b[0m\u001b[0;34m(\u001b[0m\u001b[0mfolder_dir\u001b[0m\u001b[0;34m,\u001b[0m\u001b[0mlev_one_name\u001b[0m\u001b[0;34m)\u001b[0m\u001b[0;34m\u001b[0m\u001b[0m\n\u001b[1;32m      4\u001b[0m     \u001b[0mfolder_lev_two\u001b[0m \u001b[0;34m=\u001b[0m \u001b[0mos\u001b[0m\u001b[0;34m.\u001b[0m\u001b[0mlistdir\u001b[0m\u001b[0;34m(\u001b[0m\u001b[0mlev_two_path\u001b[0m\u001b[0;34m)\u001b[0m\u001b[0;34m\u001b[0m\u001b[0m\n\u001b[1;32m      5\u001b[0m     \u001b[0;32mfor\u001b[0m \u001b[0mlev_two_name\u001b[0m \u001b[0;32min\u001b[0m \u001b[0mfolder_lev_two\u001b[0m\u001b[0;34m:\u001b[0m\u001b[0;34m\u001b[0m\u001b[0m\n",
      "\u001b[0;31mFileNotFoundError\u001b[0m: [Errno 2] No such file or directory: '/home/zhuzhen/2D_structure'"
     ]
    }
   ],
   "source": [
    "folder_lev_one = os.listdir(folder_dir)\n",
    "for lev_one_name in folder_lev_one:\n",
    "    lev_two_path = os.path.join(folder_dir,lev_one_name)\n",
    "    folder_lev_two = os.listdir(lev_two_path)\n",
    "    for lev_two_name in folder_lev_two:\n",
    "        if 'static' not in os.listdir(lev_two_path+'/'+lev_two_name):\n",
    "            print(lev_two_name + ' not completed')\n",
    "            break\n",
    "        static_path = lev_two_path+'/'+lev_two_name+'/static'\n",
    "        if 'Align' not in os.listdir(static_path):\n",
    "            print(lev_two_name+' not completed')\n",
    "            break\n",
    "        lev_three_path = os.path.join(lev_two_path,lev_two_name+'/static/Align')\n",
    "        if 'OSZICAR' not in os.listdir(lev_three_path):\n",
    "            print('Alignment calculation not successful for '+lev_two_name)\n",
    "            break\n",
    "        oszicar_path = lev_three_path + '/OSZICAR'\n",
    "        if oszicar_not_complete(oszicar_path):\n",
    "            print('Alignment calculation not successful for '+lev_two_name)\n",
    "            break\n",
    "        dan_path = lev_three_path + '/dan.out'\n",
    "        if dan_empty(dan_path):\n",
    "            print('Alignment step 1 not successful for '+lev_two_name)\n",
    "            break\n",
    "        # copy \"macroave.in\" to the folder\n",
    "        #\n",
    "        shutil.copy2(macroave_in_path,lev_three_path)\n",
    "        # create submit file for \"macroave\"\n",
    "        #\n",
    "        macroave_sub_open = open(lev_three_path+'/macroave_sub.sh','w')\n",
    "        macroave_sub_open.writelines('#!/bin/bash\\n')\n",
    "        macroave_sub_open.writelines('cd '+lev_three_path+'\\n')\n",
    "        macroave_sub_open.writelines(macroave_path)\n",
    "        macroave_sub_open.close()\n",
    "        os.system('qsub '+lev_three_path+'/macroave_sub.sh')"
   ]
  },
  {
   "cell_type": "code",
   "execution_count": null,
   "metadata": {
    "collapsed": true
   },
   "outputs": [],
   "source": []
  }
 ],
 "metadata": {
  "anaconda-cloud": {},
  "kernelspec": {
   "display_name": "Python [conda root]",
   "language": "python",
   "name": "conda-root-py"
  },
  "language_info": {
   "codemirror_mode": {
    "name": "ipython",
    "version": 3
   },
   "file_extension": ".py",
   "mimetype": "text/x-python",
   "name": "python",
   "nbconvert_exporter": "python",
   "pygments_lexer": "ipython3",
   "version": "3.5.2"
  }
 },
 "nbformat": 4,
 "nbformat_minor": 2
}
