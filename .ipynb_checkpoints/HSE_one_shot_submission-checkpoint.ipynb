{
 "cells": [
  {
   "cell_type": "code",
   "execution_count": 1,
   "metadata": {
    "collapsed": true
   },
   "outputs": [],
   "source": [
    "import os\n",
    "import numpy\n",
    "import shutil"
   ]
  },
  {
   "cell_type": "code",
   "execution_count": 2,
   "metadata": {
    "collapsed": true
   },
   "outputs": [],
   "source": [
    "# KPOINTS: 12 by 12 by 1\n",
    "# different INCAR file\n",
    "#\n",
    "# rules: first copy, then modify the files, then submit all the jobs"
   ]
  },
  {
   "cell_type": "code",
   "execution_count": 12,
   "metadata": {
    "collapsed": false
   },
   "outputs": [],
   "source": [
    "# modify INCAR file:\n",
    "# \"the path of submission folder + INCAR\" should be given as the input\n",
    "# INCAR file will be created in the submit_folder\n",
    "def create_INCAR(submit_folder):\n",
    "    incar_open = open(submit_folder+'/INCAR','w')\n",
    "    incar_open.writelines('LREAL = .FALSE.\\nENCUT = 400\\nALGO = All\\nEDIFF = 1e-5\\n')\n",
    "    incar_open.writelines('EDIFFG = -0.02\\nLVHAR = .TRUE.\\nIBRION = 2\\nISIF = 2\\nNSW = 0\\n')\n",
    "    incar_open.writelines('GGA_COMPAT = F\\nNELM = 200\\nNELMIN = 5\\nLASPH = .TRUE.\\nISMEAR = -5\\n')\n",
    "    incar_open.writelines('LHFCALC = .TRUE.\\nAEXX = 0.25\\nHFSCREEN = 0.2\\nPRECFOCK = Fast\\nLORBIT = 10\\nISYM=2')\n",
    "    incar_open.close()\n",
    "#modify_INCAR('/Users/zhenzhu/GitHub/POSCAR_generation/test_incar')"
   ]
  },
  {
   "cell_type": "code",
   "execution_count": 8,
   "metadata": {
    "collapsed": true
   },
   "outputs": [],
   "source": [
    "# copy CHGCAR or INCAR or POSCAR or KPOINT or submit file:\n",
    "# from_path: /path/CHGCAR\n",
    "# to_folder: the folder to do calculations\n",
    "def copy_FILE(from_path,to_folder):\n",
    "    shutil.copy2(from_path,to_folder)"
   ]
  },
  {
   "cell_type": "code",
   "execution_count": 9,
   "metadata": {
    "collapsed": true
   },
   "outputs": [],
   "source": [
    "def modify_submit(submit_folder):\n",
    "    f_submit = open(submit_folder+'/submit.sh','r+')\n",
    "    sub_cont = f_submit.readlines()\n",
    "    # for guild:\n",
    "    sub_cont[7]='cd '+submit_folder+'\\n'\n",
    "    # for stampede:\n",
    "    #sub_cont[-2]='cd '+lev_three_path+'/static'+'\\n'\n",
    "    f_submit.seek(0)\n",
    "    f_submit.truncate()\n",
    "    f_submit.write(''.join(sub_cont))\n",
    "    f_submit.close()"
   ]
  },
  {
   "cell_type": "code",
   "execution_count": 10,
   "metadata": {
    "collapsed": true
   },
   "outputs": [],
   "source": [
    "def file_empty(file):\n",
    "    file_open=open(file,'r')\n",
    "    file_cont=file_open.readlines()\n",
    "    if len(file_cont)<5:\n",
    "        return True\n",
    "    else:\n",
    "        return False"
   ]
  },
  {
   "cell_type": "code",
   "execution_count": 11,
   "metadata": {
    "collapsed": true
   },
   "outputs": [],
   "source": [
    "#\n",
    "# the home folder to conduct all the calculations\n",
    "#\n",
    "folder_dir = '/home/zhuzhen/2D_structure'"
   ]
  },
  {
   "cell_type": "code",
   "execution_count": null,
   "metadata": {
    "collapsed": true
   },
   "outputs": [],
   "source": [
    "# HSE_path is the submission folder\n",
    "folder_lev_one = os.listdir(folder_dir)\n",
    "for lev_one_name in folder_lev_one:\n",
    "    lev_two_path=os.path.join(folder_dir,lev_one_name)\n",
    "    folder_lev_two = os.listdir(lev_two_path)\n",
    "    for lev_two_name in folder_lev_two:\n",
    "        lev_three_path = os.path.join(lev_two_path,lev_two_name)\n",
    "        if 'static' not in os.listdir(lev_three_path):\n",
    "            print('Static calculation first for %s!'.format(lev_two_name))\n",
    "            break\n",
    "        # create folder for HSE calculation under 'static' folder\n",
    "        static_path = lev_three_path+'/static'\n",
    "        HSE_path = static_path+'/HSE'\n",
    "        os.makedir(HSE_path)\n",
    "        #\n",
    "        # create INCAR file in HSE_path\n",
    "        #\n",
    "        #\n",
    "        create_INCAR(HSE_path)\n",
    "        #\n",
    "        # copy POTCAR file\n",
    "        #\n",
    "        copy_FILE(static_path+'/POTCAR',HSE_path)\n",
    "        #\n",
    "        # copy KPOINTS file, KPOINTS kept as the same as static\n",
    "        #\n",
    "        copy_FILE(static_path+'/KPOINTS',HSE_path)\n",
    "        #\n",
    "        # cp CONTCAR file to POSCAR file\n",
    "        #\n",
    "        if file_empty(static_path+'/CONTCAR'):\n",
    "            print('Static calculation not performed correctly for %s!'.format(lev_two_name))\n",
    "            break\n",
    "        copy_FILE(static_path+'/CONTCAR',HSE_path+'/POSCAR')\n",
    "        #\n",
    "        # copy submit.sh\n",
    "        #\n",
    "        copy_FILE(static_path+'/submit.sh',HSE_path)\n",
    "        modify_submit(HSE_path)\n",
    "        #\n",
    "        # no need to copy CHGCAR file for HSE calculation\n",
    "        #\n",
    "        os.system('qsub '+HSE_path+'/submit.sh')"
   ]
  }
 ],
 "metadata": {
  "anaconda-cloud": {},
  "kernelspec": {
   "display_name": "Python [conda root]",
   "language": "python",
   "name": "conda-root-py"
  },
  "language_info": {
   "codemirror_mode": {
    "name": "ipython",
    "version": 3
   },
   "file_extension": ".py",
   "mimetype": "text/x-python",
   "name": "python",
   "nbconvert_exporter": "python",
   "pygments_lexer": "ipython3",
   "version": "3.5.2"
  }
 },
 "nbformat": 4,
 "nbformat_minor": 2
}
