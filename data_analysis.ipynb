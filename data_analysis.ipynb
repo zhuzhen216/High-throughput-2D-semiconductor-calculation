{
 "cells": [
  {
   "cell_type": "code",
   "execution_count": 2,
   "metadata": {
    "collapsed": true
   },
   "outputs": [],
   "source": [
    "#\n",
    "# data analysis: total energy\n",
    "#"
   ]
  },
  {
   "cell_type": "code",
   "execution_count": 1,
   "metadata": {
    "collapsed": true
   },
   "outputs": [],
   "source": [
    "import os\n",
    "import numpy as np\n",
    "import shutil"
   ]
  },
  {
   "cell_type": "code",
   "execution_count": 23,
   "metadata": {
    "collapsed": false
   },
   "outputs": [
    {
     "data": {
      "text/plain": [
       "-10.192615"
      ]
     },
     "execution_count": 23,
     "metadata": {},
     "output_type": "execute_result"
    }
   ],
   "source": [
    "# return total energy\n",
    "# the format of the last line of OSZICAR is:\n",
    "# 3 F= -.10192617E+02 E0= -.10192615E+02  d E =-.224873E-03\n",
    "# ['3','F=','-.10192617E+02','E0=','-.10192615E+02','d','E', '=-.224873E-03']\n",
    "# return -.101926E+02 (10.1926)\n",
    "#\n",
    "# this function can be called after checking whether it is a finished job or not\n",
    "#\n",
    "def read_OSZICAR(oszicar_file):\n",
    "    oszicar = open(oszicar_file,'r')\n",
    "    oszicar_cont = oszicar.readlines()\n",
    "    oszicar.close()\n",
    "    return float(oszicar_cont[-1].split()[4])\n",
    "read_OSZICAR('OSZICAR')"
   ]
  },
  {
   "cell_type": "code",
   "execution_count": 54,
   "metadata": {
    "collapsed": false
   },
   "outputs": [],
   "source": [
    "# return band gap from DOSCAR\n",
    "#\n",
    "# The idea is first get Fermi level from vasp\n",
    "#\n",
    "# this script can obtain Fermi level\n",
    "def read_FermiLev(vasprun_xml):\n",
    "    vasprun_out = open(vasprun_xml,'r')\n",
    "    for line in vasprun_out:\n",
    "        if 'efermi' in line:\n",
    "            return float(line.split()[2])\n",
    "            break\n",
    "    vasprun_out.close()\n",
    "\n",
    "def read_dos(doscar,fermi_level):\n",
    "    doscar_out = open(doscar,'r')\n",
    "    count = 0\n",
    "    small_number = 0.00001\n",
    "    gap_value = 0.\n",
    "    VBM = fermi_level\n",
    "    CBM = fermi_level\n",
    "    conti_zero = []\n",
    "    for line in doscar_out:\n",
    "        count =  count + 1\n",
    "        if count > 6:\n",
    "            val_list = [float(line.split()[i]) for i in range(3)]\n",
    "            #print(val_list)\n",
    "            if val_list[1]<small_number:\n",
    "                conti_zero.append(val_list[0])\n",
    "                #print(val_list)\n",
    "                #break\n",
    "            else:\n",
    "                if len(conti_zero)>=2 and conti_zero[0]<fermi_level and conti_zero[-1]>fermi_level:\n",
    "                    gap_value = (conti_zero[-1]-conti_zero[0])/len(conti_zero)*(len(conti_zero)+1)\n",
    "                    #print(conti_zero)\n",
    "                    break\n",
    "                #elif conti_zero[0]>fermi_level:\n",
    "                #    break\n",
    "                else:\n",
    "                    conti_zero=[]\n",
    "    doscar_out.close()\n",
    "    return gap_value   \n",
    "#print(read_vasprun('vasprun.xml'))\n",
    "#read_dos('DOSCAR',read_vasprun('vasprun.xml'))"
   ]
  },
  {
   "cell_type": "code",
   "execution_count": null,
   "metadata": {
    "collapsed": true
   },
   "outputs": [],
   "source": [
    "# loop over all the folders to get the band gap values:\n",
    "#"
   ]
  }
 ],
 "metadata": {
  "kernelspec": {
   "display_name": "Python [conda root]",
   "language": "python",
   "name": "conda-root-py"
  },
  "language_info": {
   "codemirror_mode": {
    "name": "ipython",
    "version": 3
   },
   "file_extension": ".py",
   "mimetype": "text/x-python",
   "name": "python",
   "nbconvert_exporter": "python",
   "pygments_lexer": "ipython3",
   "version": "3.5.2"
  }
 },
 "nbformat": 4,
 "nbformat_minor": 2
}
