{
 "cells": [
  {
   "cell_type": "code",
   "execution_count": 2,
   "metadata": {
    "collapsed": true
   },
   "outputs": [],
   "source": [
    "import os\n",
    "import shutil"
   ]
  },
  {
   "cell_type": "code",
   "execution_count": 3,
   "metadata": {
    "collapsed": true
   },
   "outputs": [],
   "source": [
    "# KPOINTS: 13 by 13 by 1\n",
    "# different INCAR file\n",
    "#\n",
    "# rules: first copy, then modify the files, then submit all the jobs"
   ]
  },
  {
   "cell_type": "code",
   "execution_count": 11,
   "metadata": {
    "collapsed": false
   },
   "outputs": [],
   "source": [
    "# modify INCAR file:\n",
    "# \"the path of submission folder + INCAR\" should be given as the input\n",
    "def modify_INCAR(submit_folder):\n",
    "    incar_open = open(submit_folder+'/INCAR','r+')\n",
    "    incar_cont = incar_open.readlines()\n",
    "    incar_cont[5]='IBRION=2; ISIF=2; NSW=0\\n'\n",
    "    incar_cont.append('\\nLVHAR = .TRUE.')\n",
    "    incar_open.seek(0)\n",
    "    incar_open.truncate()\n",
    "    incar_open.write(''.join(incar_cont))\n",
    "    incar_open.close()\n",
    "#modify_INCAR('/Users/zhenzhu/GitHub/POSCAR_generation/test_incar')"
   ]
  },
  {
   "cell_type": "code",
   "execution_count": 5,
   "metadata": {
    "collapsed": true
   },
   "outputs": [],
   "source": [
    "# copy CHGCAR or INCAR or POSCAR or KPOINT or submit file:\n",
    "# from_path: /path/CHGCAR\n",
    "# to_folder: the folder to do calculations\n",
    "def copy_FILE(from_path,to_folder):\n",
    "    shutil.copy2(from_path,to_folder)"
   ]
  },
  {
   "cell_type": "code",
   "execution_count": 6,
   "metadata": {
    "collapsed": true
   },
   "outputs": [],
   "source": [
    "def modify_submit(submit_folder):\n",
    "    f_submit = open(submit_folder+'/submit.sh','r+')\n",
    "    sub_cont = f_submit.readlines()\n",
    "    # for guild:\n",
    "    sub_cont[7]='cd '+submit_folder+'\\n'\n",
    "    # for stampede:\n",
    "    #sub_cont[-2]='cd '+lev_three_path+'/static'+'\\n'\n",
    "    f_submit.seek(0)\n",
    "    f_submit.truncate()\n",
    "    f_submit.write(''.join(sub_cont))\n",
    "    f_submit.close()"
   ]
  },
  {
   "cell_type": "code",
   "execution_count": 12,
   "metadata": {
    "collapsed": true
   },
   "outputs": [],
   "source": [
    "def modify_KPOINTS(submit_folder):\n",
    "    k_grid = '13 13 1'\n",
    "    kpoints_open = open(submit_folder+'/KPOINTS','r+')\n",
    "    kpoints_cont = kpoints_open.readlines()\n",
    "    kpoints_cont[3]=k_grid+'\\n'\n",
    "    kpoints_open.seek(0)\n",
    "    kpoints_open.truncate()\n",
    "    kpoints_open.write(''.join(kpoints_cont))\n",
    "    kpoints_open.close()"
   ]
  },
  {
   "cell_type": "code",
   "execution_count": 13,
   "metadata": {
    "collapsed": true
   },
   "outputs": [],
   "source": [
    "def file_empty(file):\n",
    "    file_open=open(file,'r')\n",
    "    file_cont=file_open.readlines()\n",
    "    if len(file_cont)<5:\n",
    "        return True\n",
    "    else:\n",
    "        return False"
   ]
  },
  {
   "cell_type": "code",
   "execution_count": 14,
   "metadata": {
    "collapsed": true
   },
   "outputs": [],
   "source": [
    "#\n",
    "# the home folder to conduct all the calculations\n",
    "#\n",
    "folder_dir = '/home/zhuzhen/2D_structure'"
   ]
  },
  {
   "cell_type": "code",
   "execution_count": null,
   "metadata": {
    "collapsed": true
   },
   "outputs": [],
   "source": [
    "# DOS_path is the submission folder\n",
    "folder_lev_one = os.listdir(folder_dir)\n",
    "for lev_one_name in folder_lev_one:\n",
    "    lev_two_path=os.path.join(folder_dir,lev_one_name)\n",
    "    folder_lev_two = os.listdir(lev_two_path)\n",
    "    for lev_two_name in folder_lev_two:\n",
    "        lev_three_path = os.path.join(lev_two_path,lev_two_name)\n",
    "        if 'static' not in os.listdir(lev_three_path):\n",
    "            print('Static calculation first for %s!'.format(lev_two_name))\n",
    "            break\n",
    "        # create folder for DOS calculation under 'static' folder\n",
    "        static_path = lev_three_path+'/static'\n",
    "        align_path = static_path+'/Align'\n",
    "        os.mkdir(align_path)\n",
    "        #\n",
    "        # copy INCAR file\n",
    "        #\n",
    "        copy_FILE(static_path+'/INCAR',align_path)\n",
    "        modify_INCAR(align_path)\n",
    "        #\n",
    "        # copy POTCAR file\n",
    "        #\n",
    "        copy_FILE(static_path+'/POTCAR',align_path)\n",
    "        #\n",
    "        # copy KPOINTS file\n",
    "        #\n",
    "        copy_FILE(static_path+'/KPOINTS',align_path)\n",
    "        modify_KPOINTS(align_path)\n",
    "        #\n",
    "        # cp CONTCAR file to POSCAR file\n",
    "        #\n",
    "        if file_empty(static_path+'/CONTCAR'):\n",
    "            print('Static calculation not performed correctly for %s!'.format(lev_two_name))\n",
    "            break\n",
    "        copy_FILE(static_path+'/CONTCAR',align_path+'/POSCAR')\n",
    "        #\n",
    "        # copy submit.sh\n",
    "        #\n",
    "        copy_FILE(static_path+'/submit.sh',align_path)\n",
    "        modify_submit(align_path)\n",
    "        #\n",
    "        # copy CHGCAR file\n",
    "        #\n",
    "        copy_FILE(static_path+'/CHGCAR',align_path)\n",
    "        os.system('qsub '+align_path+'/submit.sh')"
   ]
  }
 ],
 "metadata": {
  "kernelspec": {
   "display_name": "Python [conda root]",
   "language": "python",
   "name": "conda-root-py"
  },
  "language_info": {
   "codemirror_mode": {
    "name": "ipython",
    "version": 3
   },
   "file_extension": ".py",
   "mimetype": "text/x-python",
   "name": "python",
   "nbconvert_exporter": "python",
   "pygments_lexer": "ipython3",
   "version": "3.5.2"
  }
 },
 "nbformat": 4,
 "nbformat_minor": 2
}
