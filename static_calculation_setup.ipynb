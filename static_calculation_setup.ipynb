{
 "cells": [
  {
   "cell_type": "code",
   "execution_count": 3,
   "metadata": {
    "collapsed": true
   },
   "outputs": [],
   "source": [
    "import os\n",
    "import shutil"
   ]
  },
  {
   "cell_type": "code",
   "execution_count": 4,
   "metadata": {
    "collapsed": true
   },
   "outputs": [],
   "source": [
    "# This script can manage the submission of static calculations:\n",
    "# there are two things to modify:\n",
    "#\n",
    "# 1. folder_dir: this is the folder you do high-throughput calculations\n",
    "#    the folder set-up is: /AlBr/AlBr_0/\n",
    "#    then, first-step calculation folder: lattice parameters optimized\n",
    "#    then, static folder: structures optimized with constrained lattice parameters\n",
    "# 2. the submission file would depend on your own submission system\n",
    "#    \n",
    "folder_dir = '/Users/zhenzhu/Project/calculcation/IV-VI/lots_of_struc'"
   ]
  },
  {
   "cell_type": "code",
   "execution_count": 5,
   "metadata": {
    "collapsed": false
   },
   "outputs": [],
   "source": [
    "folder_lev_one = os.listdir(folder_dir)\n",
    "k_grid = '12 12 1'\n",
    "for lev_one_name in folder_lev_one:\n",
    "    lev_two_path=os.path.join(folder_dir,lev_one_name)\n",
    "    folder_lev_two = os.listdir(lev_two_path)\n",
    "    for lev_two_name in folder_lev_two:\n",
    "        lev_three_path = os.path.join(lev_two_path,lev_two_name)\n",
    "        #os.removedirs(os.path.join(lev_three_path,'static'))\n",
    "        if 'static' not in os.listdir(lev_three_path):\n",
    "            os.mkdir(os.path.join(lev_three_path,'static'))\n",
    "        #\n",
    "        # copy POSCAR to the new folder 'static'\n",
    "        #\n",
    "        POSCAR_path = os.path.join(lev_three_path,'static/POSCAR')\n",
    "        if 'CONTCAR' in os.listdir(lev_three_path):\n",
    "            shutil.copy2(os.path.join(lev_three_path,'CONTCAR'),POSCAR_path)\n",
    "        else:\n",
    "            shutil.copy2(os.path.join(lev_three_path,'POSCAR'),POSCAR_path)\n",
    "        ##\n",
    "        # copy POTCAR file to the folder\n",
    "        ##\n",
    "        shutil.copy2(os.path.join(lev_three_path,'POTCAR'),os.path.join(lev_three_path,'static/POTCAR'))\n",
    "        ##\n",
    "        # copy KPOINTS to the new folder; increase the k-grid sampling to 12 x 12 x 1\n",
    "        ##\n",
    "        KPOINTS_path = os.path.join(lev_three_path,'static/KPOINTS')\n",
    "        shutil.copy2(os.path.join(lev_three_path,'KPOINTS'),KPOINTS_path)\n",
    "        f_kpoints = open(KPOINTS_path,'r+')\n",
    "        kpoints_cont = f_kpoints.readlines()\n",
    "        kpoints_cont[3]=k_grid+'\\n'\n",
    "        f_kpoints.seek(0)\n",
    "        f_kpoints.truncate()\n",
    "        f_kpoints.write(''.join(kpoints_cont))\n",
    "        f_kpoints.close()\n",
    "        ##\n",
    "        # copy INCAR file and modify it.\n",
    "        ##\n",
    "        INCAR_path = os.path.join(lev_three_path,'static/INCAR')\n",
    "        shutil.copy2(os.path.join(lev_three_path,'INCAR'),INCAR_path)\n",
    "        f_incar = open(INCAR_path,'r+')\n",
    "        incar_cont = f_incar.readlines()\n",
    "        # for guild:\n",
    "        #f_lines[7]='cd '+lev_three_path+'/static'+'\\n'\n",
    "        # for stampede:\n",
    "        incar_cont[4]='IBRION=2; ISIF=2; NSW=100'+'\\n'\n",
    "        incar_cont.append('\\nNEDOS = 3001')\n",
    "        f_incar.seek(0)\n",
    "        f_incar.truncate()\n",
    "        f_incar.write(''.join(incar_cont))\n",
    "        f_incar.close()\n",
    "        ##\n",
    "        # copy submit file to the folder static and modify it.\n",
    "        ##\n",
    "        ##\n",
    "        # below, the code will copy the submit.sh file from original folder to the static folder\n",
    "        # the line containing the submission path in the file is modified.\n",
    "        # careful, for stampede and guild, it is different\n",
    "        ##\n",
    "        submit_path = os.path.join(lev_three_path,'static/submit.sh')\n",
    "        shutil.copy2(os.path.join(lev_three_path,'submit.sh'),submit_path)\n",
    "        f_submit = open(submit_path,'r+')\n",
    "        sub_cont = f_submit.readlines()\n",
    "        # for guild:\n",
    "        sub_cont[7]='cd '+lev_three_path+'/static'+'\\n'\n",
    "        # for stampede:\n",
    "        #sub_cont[-2]='cd '+lev_three_path+'/static'+'\\n'\n",
    "        f_submit.seek(0)\n",
    "        f_submit.truncate()\n",
    "        f_submit.write(''.join(sub_cont))\n",
    "        f_submit.close()\n",
    "        ##\n",
    "        # set up submission\n",
    "        ##\n",
    "        os.system('qsub '+submit_path)"
   ]
  },
  {
   "cell_type": "code",
   "execution_count": null,
   "metadata": {
    "collapsed": true
   },
   "outputs": [],
   "source": []
  }
 ],
 "metadata": {
  "anaconda-cloud": {},
  "kernelspec": {
   "display_name": "Python [conda root]",
   "language": "python",
   "name": "conda-root-py"
  },
  "language_info": {
   "codemirror_mode": {
    "name": "ipython",
    "version": 3
   },
   "file_extension": ".py",
   "mimetype": "text/x-python",
   "name": "python",
   "nbconvert_exporter": "python",
   "pygments_lexer": "ipython3",
   "version": "3.5.2"
  }
 },
 "nbformat": 4,
 "nbformat_minor": 2
}
